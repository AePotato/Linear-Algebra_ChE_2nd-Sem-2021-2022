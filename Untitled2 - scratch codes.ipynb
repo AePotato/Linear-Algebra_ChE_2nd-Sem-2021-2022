{
  "nbformat": 4,
  "nbformat_minor": 0,
  "metadata": {
    "colab": {
      "name": "Untitled2.ipynb",
      "provenance": [],
      "collapsed_sections": [],
      "authorship_tag": "ABX9TyMmXuwiPQrKmKGQUHYP9Icz",
      "include_colab_link": true
    },
    "kernelspec": {
      "name": "python3",
      "display_name": "Python 3"
    },
    "language_info": {
      "name": "python"
    }
  },
  "cells": [
    {
      "cell_type": "markdown",
      "metadata": {
        "id": "view-in-github",
        "colab_type": "text"
      },
      "source": [
        "<a href=\"https://colab.research.google.com/github/AePotato/Linear-Algebra_ChE_2nd-Sem-2021-2022/blob/main/Untitled2%20-%20scratch%20codes.ipynb\" target=\"_parent\"><img src=\"https://colab.research.google.com/assets/colab-badge.svg\" alt=\"Open In Colab\"/></a>"
      ]
    },
    {
      "cell_type": "markdown",
      "source": [
        "### Task 2\n",
        "Create a function named mat_operations() that takes in two matrices a input parameters it should:\n",
        "\n",
        "  1. Determines if the matrices are viable for operation and returns your own error message if they are not viable.\n",
        "  2. Returns the sum of the matrices.\n",
        "  3. Returns the difference of the matrices.\n",
        "  4. Returns the element-wise multiplication of the matrices.\n",
        "  5. Returns the element-wise division of the matrices.\n",
        "\n",
        "Use 5 sample matrices in which their shapes are not lower than (3,3) . In your methodology, create a flowchart discuss the functions and methods you have done. Present your results in the results section showing the description of each matrix you have declared."
      ],
      "metadata": {
        "id": "oU2YW81IcGWJ"
      }
    },
    {
      "cell_type": "code",
      "source": [
        "## Function area\n",
        "import numpy as np\n",
        "import matplotlib.pyplot as plt\n",
        "import scipy.linalg as la\n",
        "%matplotlib inline\n"
      ],
      "metadata": {
        "id": "pdF2hypk6vLO"
      },
      "execution_count": null,
      "outputs": []
    },
    {
      "cell_type": "code",
      "source": [
        "def mat_operations(firstArray, secondArray):\n",
        "  if len(firstArray) == len(secondArray):\n",
        "    sum = firstArray + secondArray\n",
        "    dif = firstArray - secondArray\n",
        "    div = firstArray / secondArray\n",
        "    mul = firstArray * secondArray\n",
        "    print(f'Sum:\\n{sum}\\n\\nDiferrence:\\n{dif}\\n\\nQuotient:\\n{div}\\n\\nProduct:\\n{mul}')\n",
        "    print(\"\\nTherefore, matrices are viable for operation.\")\n",
        "  else:\n",
        "    print(\"Matrices are not viable for operation.\")\n"
      ],
      "metadata": {
        "id": "NyyXmUbkSPnv"
      },
      "execution_count": null,
      "outputs": []
    },
    {
      "cell_type": "markdown",
      "source": [
        " 1. $A \\cdot B \\neq B \\cdot A$\n",
        " 2. $A \\cdot (B \\cdot C) = (A \\cdot B) \\cdot C$\n",
        " 3. $A\\cdot(B+C) = A\\cdot B + A\\cdot C$\n",
        " 4. $(B+C)\\cdot A = B\\cdot A + C\\cdot A$\n",
        " 5. $A\\cdot I = A$\n",
        " 6. $A\\cdot \\emptyset = \\emptyset$ "
      ],
      "metadata": {
        "id": "fwdqDFKnt7ep"
      }
    },
    {
      "cell_type": "markdown",
      "source": [
        "## Activity\n",
        "Task 1\n",
        "Prove and implement the remaining 6 matrix multiplication properties. You may create your own matrices in which their shapes should not be lower than $(3,3)$. In your methodology, create individual flowcharts for each property and discuss the property you would then present your proofs or validity of your implementation in the results section by comparing your result to present functions from NumPy."
      ],
      "metadata": {
        "id": "uhCpGkEwtTz2"
      }
    },
    {
      "cell_type": "code",
      "source": [
        "## Function area\n",
        "import numpy as np\n",
        "import matplotlib.pyplot as plt\n",
        "import scipy.linalg as la\n",
        "%matplotlib inline\n"
      ],
      "metadata": {
        "id": "oatmtSCGKalH"
      },
      "execution_count": 1,
      "outputs": []
    },
    {
      "cell_type": "code",
      "source": [
        "M = np.array([\n",
        "              [3,1,2,4],\n",
        "              [2,4,6,8],\n",
        "              [3,0,2,-1],\n",
        "              [8,0,0,-3]\n",
        "])\n",
        "\n",
        "A = np.array([\n",
        "              [1,1,1,-1],\n",
        "              [2,4,6,8],\n",
        "              [3,0,2,-1],\n",
        "              [8,0,0,-3]\n",
        "])"
      ],
      "metadata": {
        "id": "kS26GPseKk8_"
      },
      "execution_count": 3,
      "outputs": []
    },
    {
      "cell_type": "code",
      "source": [
        "## Comutativity is not applicable (A⋅B≠B⋅A)\n",
        "def mat_prop(firstArray, secondArray):\n",
        "  if len(firstArray) == len(secondArray):\n",
        "    com = M @ A\n",
        "    tat = A @ M\n",
        "    print(f'M⋅A:\\n{com}\\n\\nA⋅M:\\n{tat}\\n\\nEqual:{np.array_equal(M@A, A@M)}')\n",
        "    print(\"\\nTherefore, M ⋅ A is ≠ to A ⋅ M.\")\n",
        "  else:\n",
        "    print(\"Matrices are not viable for operation.\")\n",
        "\n",
        "\n",
        "mat_prop(M,A)"
      ],
      "metadata": {
        "colab": {
          "base_uri": "https://localhost:8080/"
        },
        "id": "BrW2Lv8lM96I",
        "outputId": "238cf095-9367-4956-a51f-69e6ae794e17"
      },
      "execution_count": 16,
      "outputs": [
        {
          "output_type": "stream",
          "name": "stdout",
          "text": [
            "M⋅A:\n",
            "[[ 43   7  13  -9]\n",
            " [ 92  18  38   0]\n",
            " [  1   3   7  -2]\n",
            " [-16   8   8   1]]\n",
            "\n",
            "A⋅M:\n",
            "[[ 0  5 10 14]\n",
            " [96 18 40 10]\n",
            " [ 7  3 10 13]\n",
            " [ 0  8 16 41]]\n",
            "\n",
            "Equal:False\n",
            "\n",
            "Therefore, M ⋅ A is ≠ to A ⋅ M.\n"
          ]
        }
      ]
    },
    {
      "cell_type": "code",
      "source": [
        "R = np.array([\n",
        "              [3,1,2,4],\n",
        "              [2,4,6,8],\n",
        "              [3,0,2,-1],\n",
        "              [8,0,0,-3]\n",
        "])\n",
        "\n",
        "O = np.array([\n",
        "              [1,1,1,-1],\n",
        "              [2,4,6,8],\n",
        "              [3,0,2,-1],\n",
        "              [8,0,0,-3]\n",
        "])\n",
        "\n",
        "S = np.array([\n",
        "              [0,3,2,4],\n",
        "              [5,4,3,2],\n",
        "              [3,2,-1,0],\n",
        "              [3,-2,0,5]\n",
        "])"
      ],
      "metadata": {
        "id": "Kqgi3Be8QSmo"
      },
      "execution_count": 24,
      "outputs": []
    },
    {
      "cell_type": "code",
      "source": [
        "##Associative Law[A⋅(B⋅C)=(A⋅B)⋅C]\n",
        "def mat_prop(firstArray, secondArray, thirdArray):\n",
        "  if len(firstArray) == len(secondArray) == len(thirdArray):\n",
        "    ass = R@(O@S)\n",
        "    oci = (R@O)@S\n",
        "    print(f'R⋅(O⋅S):\\n{ass}\\n\\n(R⋅O)⋅S:\\n{oci}\\n\\nEqual:{np.array_equal(ass, oci)}\\n\\nEquivalent:{np.array_equiv(ass, oci)}')\n",
        "    print(\"\\nTherefore, Associative Law is applicable\")\n",
        "  else:\n",
        "    print(\"Matrices are not viable for operation.\")\n",
        "\n",
        "mat_prop(R,O,S)"
      ],
      "metadata": {
        "colab": {
          "base_uri": "https://localhost:8080/"
        },
        "id": "tmhzBH1uPkSt",
        "outputId": "2df1ed6f-1cc3-4a59-db7f-8d01ec1d1a0e"
      },
      "execution_count": 29,
      "outputs": [
        {
          "output_type": "stream",
          "name": "stdout",
          "text": [
            "R⋅(O⋅S):\n",
            "[[ 47 201  94 141]\n",
            " [204 424 200 404]\n",
            " [ 30  33   4   0]\n",
            " [ 67  -2 -16 -43]]\n",
            "\n",
            "(R⋅O)⋅S:\n",
            "[[ 47 201  94 141]\n",
            " [204 424 200 404]\n",
            " [ 30  33   4   0]\n",
            " [ 67  -2 -16 -43]]\n",
            "\n",
            "Equal:True\n",
            "\n",
            "Equivalent:True\n",
            "\n",
            "Therefore, Associative Law is applicable\n"
          ]
        }
      ]
    },
    {
      "cell_type": "code",
      "source": [
        "P = np.array([\n",
        "              [3,1,2,4],\n",
        "              [2,4,2,1],\n",
        "              [3,0,2,-1],\n",
        "              [4,2,0,-3]\n",
        "])\n",
        "\n",
        "A = np.array([\n",
        "              [0,1,-1,0],\n",
        "              [5,10,2,15],\n",
        "              [3,0,2,-1],\n",
        "              [8,15,4,-3]\n",
        "])\n",
        "\n",
        "S = np.array([\n",
        "              [0,1,2,4],\n",
        "              [9,8,7,6,],\n",
        "              [-2,-3,-4,-5],\n",
        "              [3,6,9,3]\n",
        "])"
      ],
      "metadata": {
        "id": "IuctPzIVTblU"
      },
      "execution_count": 30,
      "outputs": []
    },
    {
      "cell_type": "code",
      "source": [
        "##Distributive Law is applicable [A⋅(B+C)=A⋅B+A⋅C]\n",
        "def mat_prop(firstArray, secondArray, thirdArray):\n",
        "  if len(firstArray) == len(secondArray) == len(thirdArray):\n",
        "    dis = P@(A+S)\n",
        "    tri = (P@A)+(P@S)\n",
        "    print(f'P⋅(A+S):\\n{dis}\\n\\nP⋅A+P⋅S:\\n{tri}\\n\\nEqual:{np.array_equal(dis, tri)}\\n\\nEquivalent:{np.array_equiv(dis, tri)}')\n",
        "    print(\"\\nTherefore, Distributive Law is applicable\")\n",
        "  else:\n",
        "    print(\"Matrices are not viable for operation.\")\n",
        "\n",
        "mat_prop(P,A,S)"
      ],
      "metadata": {
        "colab": {
          "base_uri": "https://localhost:8080/"
        },
        "id": "pAzrzqvWTHMC",
        "outputId": "34d45d92-2a7f-4173-f0b3-a43b3983e949"
      },
      "execution_count": 34,
      "outputs": [
        {
          "output_type": "stream",
          "name": "stdout",
          "text": [
            "P⋅(A+S):\n",
            "[[ 60 102  60  21]\n",
            " [ 69  91  47  80]\n",
            " [ -9 -21 -14   0]\n",
            " [ -5 -19 -17  58]]\n",
            "\n",
            "P⋅A+P⋅S:\n",
            "[[ 60 102  60  21]\n",
            " [ 69  91  47  80]\n",
            " [ -9 -21 -14   0]\n",
            " [ -5 -19 -17  58]]\n",
            "\n",
            "Equal:True\n",
            "\n",
            "Equivalent:True\n",
            "\n",
            "Therefore, Distributive Law is applicable\n"
          ]
        }
      ]
    },
    {
      "cell_type": "code",
      "source": [
        "##[(B+C)⋅A=B⋅A+C⋅A]\n",
        "def mat_prop(firstArray, secondArray, thirdArray):\n",
        "  if len(firstArray) == len(secondArray) == len(thirdArray):\n",
        "    dis = (A+S)@P\n",
        "    tri = (A@P)+(S@P)\n",
        "    print(f'P⋅(A+S):\\n{dis}\\n\\nP⋅A+P⋅S:\\n{tri}\\n\\nEqual:{np.array_equal(dis, tri)}\\n\\nEquivalent:{np.array_equiv(dis, tri)}')\n",
        "    print(\"\\nTherefore, the statement (B+C)⋅A=B⋅A+C⋅A is true\")\n",
        "  else:\n",
        "    print(\"Matrices are not viable for operation.\")\n",
        "\n",
        "mat_prop(P,A,S)"
      ],
      "metadata": {
        "colab": {
          "base_uri": "https://localhost:8080/"
        },
        "id": "gxxn66tJVHxv",
        "outputId": "20a76cf0-7f53-4803-aaab-773c92199e79"
      },
      "execution_count": 35,
      "outputs": [
        {
          "output_type": "stream",
          "name": "stdout",
          "text": [
            "P⋅(A+S):\n",
            "[[ 23  16   6 -11]\n",
            " [189 128  82   2]\n",
            " [-33 -23  -8  21]\n",
            " [114  95  90  52]]\n",
            "\n",
            "P⋅A+P⋅S:\n",
            "[[ 23  16   6 -11]\n",
            " [189 128  82   2]\n",
            " [-33 -23  -8  21]\n",
            " [114  95  90  52]]\n",
            "\n",
            "Equal:True\n",
            "\n",
            "Equivalent:True\n",
            "\n",
            "Therefore, the statement (B+C)⋅A=B⋅A+C⋅A is true\n"
          ]
        }
      ]
    },
    {
      "cell_type": "code",
      "source": [
        "##A⋅I=A\n"
      ],
      "metadata": {
        "id": "Y1aZYiQ5VzyX"
      },
      "execution_count": null,
      "outputs": []
    }
  ]
}