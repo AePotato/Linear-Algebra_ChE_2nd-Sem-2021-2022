{
  "nbformat": 4,
  "nbformat_minor": 0,
  "metadata": {
    "colab": {
      "name": "Assignment 3.ipynb",
      "provenance": [],
      "include_colab_link": true
    },
    "kernelspec": {
      "name": "python3",
      "display_name": "Python 3"
    },
    "language_info": {
      "name": "python"
    }
  },
  "cells": [
    {
      "cell_type": "markdown",
      "metadata": {
        "id": "view-in-github",
        "colab_type": "text"
      },
      "source": [
        "<a href=\"https://colab.research.google.com/github/AePotato/Linear-Algebra_ChE_2nd-Sem-2021-2022/blob/main/Assignment_3.ipynb\" target=\"_parent\"><img src=\"https://colab.research.google.com/assets/colab-badge.svg\" alt=\"Open In Colab\"/></a>"
      ]
    },
    {
      "cell_type": "markdown",
      "source": [
        "# Linear Algebra for ChE \n",
        "## Assignment 3: Matrix in Python"
      ],
      "metadata": {
        "id": "Isxqrf17KqWb"
      }
    },
    {
      "cell_type": "markdown",
      "source": [
        "## Objectives\n",
        "At the end of this activity you will be able to:\n",
        "1. Be familiar with matrices and their relation to linear equations.\n",
        "2. Perform basic matrix operations.\n",
        "3. Program and translate matrix equations and operations using Python.\n"
      ],
      "metadata": {
        "id": "x5K9hxGzK2Qy"
      }
    },
    {
      "cell_type": "markdown",
      "source": [
        "## Discussion"
      ],
      "metadata": {
        "id": "rY3aFvkWK31q"
      }
    },
    {
      "cell_type": "code",
      "source": [
        "import numpy as np\n",
        "import matplotlib.pyplot as plt\n",
        "import scipy.linalg as la\n",
        "%matplotlib inline\n"
      ],
      "metadata": {
        "id": "IQK3Fs6MLAeC"
      },
      "execution_count": null,
      "outputs": []
    },
    {
      "cell_type": "markdown",
      "source": [
        "### Matrices\n",
        "A sequence of scalars or vectors makes up a matrix. They're commonly kept as a collection of arrays in code. Matrixes are also known as multidimensional arrays. Matrices may also be used to represent multidimensional equations or multiple complex equations, spanning from two to hundreds or thousands of variables.\n",
        "\n",
        "Let's say for example you have ***M***, ***A*** and ***R*** as system of equations."
      ],
      "metadata": {
        "id": "uvGigYKELGip"
      }
    },
    {
      "cell_type": "markdown",
      "source": [
        "$$\n",
        "M = \\left\\{\n",
        "    \\begin{array}\\\n",
        "        x + y \\\\ \n",
        "        23x - 7y\n",
        "    \\end{array}\n",
        "\\right. \\\\\n",
        "A = \\left\\{\n",
        "    \\begin{array}\\\n",
        "        x+554y+z \\\\ \n",
        "        71x +9y -20z \\\\\n",
        "        -56x -2y -89z\n",
        "    \\end{array}\n",
        "\\right. \\\\\n",
        "R = \\left\\{\n",
        "   \\begin{array}\\\n",
        "        33w-21x+92y-z \\\\\n",
        "        w+ 11x -7y +32z \\\\\n",
        "        24w -1x + 7y - 74z\n",
        "    \\end{array}\n",
        "\\right.\n",
        "$$"
      ],
      "metadata": {
        "id": "RypvNObWN2Wb"
      }
    },
    {
      "cell_type": "markdown",
      "source": [
        "We could see that ***M*** is a system of **2 equations with 2 parameters**. While ***A*** is a system of **3 equations with 3 parameters**. ***R*** is a **4 system of equations with 4 parameters**. We can represent them as matrices as:"
      ],
      "metadata": {
        "id": "YgV5BfaTYZJd"
      }
    },
    {
      "cell_type": "markdown",
      "source": [
        "$$\n",
        "M=\\begin{bmatrix} 1 & 1 \\\\ 23 & {-7}\\end{bmatrix} \\\\\n",
        "A=\\begin{bmatrix} 1 & 554 & 1 \\\\ 71 & 9 & -20 \\\\ -56 & -2 & -89\\end{bmatrix}\\\\\n",
        "R=\\begin{bmatrix} 33 & -21 & 92 & -1 \\\\ 1 & 11 & -7 & 32 \\\\ 24 & -1 & 7 & -74\\end{bmatrix}\n",
        "$$\n"
      ],
      "metadata": {
        "id": "pFF3uXGHOc4Y"
      }
    },
    {
      "cell_type": "markdown",
      "source": [
        "### Declaring Matrices"
      ],
      "metadata": {
        "id": "kKNjYe5WQGW1"
      }
    },
    {
      "cell_type": "markdown",
      "source": [
        "The elements are indexed according to their position with respect to their rows and columns. This can be reprsented just like the equation below. Whereas ***A*** is matrix consisting of elements denoted by aij. Denoted by *i* is the number of rows in the matrix while *j* stands for the number of columns. Do note that the size of a matrix is ***i x j***."
      ],
      "metadata": {
        "id": "67tMuJ58Y3oW"
      }
    },
    {
      "cell_type": "markdown",
      "source": [
        "$$A=\\begin{bmatrix}\n",
        "a_{(0,0)}&a_{(0,1)}&\\dots&a_{(0,j-1)}\\\\\n",
        "a_{(1,0)}&a_{(1,1)}&\\dots&a_{(1,j-1)}\\\\\n",
        "\\vdots&\\vdots&\\ddots&\\vdots&\\\\\n",
        "a_{(i-1,0)}&a_{(i-1,1)}&\\dots&a_{(i-1,j-1)}\n",
        "\\end{bmatrix}\n",
        "$$\n"
      ],
      "metadata": {
        "id": "eUvkJqzVQO7h"
      }
    },
    {
      "cell_type": "markdown",
      "source": [
        "We already gone over some of the types of matrices as vectors but we'll further discuss them in this laboratory activity. Since you already know how to describe vectors using **shape, dimensions** and **size** attributes, we'll use them to analyze these matrices."
      ],
      "metadata": {
        "id": "XA6cM9YQZMeA"
      }
    },
    {
      "cell_type": "code",
      "source": [
        "def describe_mat(matrix):\n",
        "    print(f'Matrix:\\n{matrix}\\n\\nShape:\\t{matrix.shape}\\nRank:\\t{matrix.ndim}\\n')"
      ],
      "metadata": {
        "id": "6SrKOCNRQW7L"
      },
      "execution_count": null,
      "outputs": []
    },
    {
      "cell_type": "code",
      "source": [
        "## Declaring a 2 x 2 matrix\n",
        "R = np.array([\n",
        "    [-361, -2],\n",
        "    [7, 11],\n",
        "])\n",
        "describe_mat(R)"
      ],
      "metadata": {
        "colab": {
          "base_uri": "https://localhost:8080/"
        },
        "id": "feZUWZQHQyJB",
        "outputId": "94f77403-4d5a-4bb4-e379-0831e7cfccb7"
      },
      "execution_count": null,
      "outputs": [
        {
          "output_type": "stream",
          "name": "stdout",
          "text": [
            "Matrix:\n",
            "[[-361   -2]\n",
            " [   7   11]]\n",
            "\n",
            "Shape:\t(2, 2)\n",
            "Rank:\t2\n",
            "\n"
          ]
        }
      ]
    },
    {
      "cell_type": "code",
      "source": [
        "O = np.array([\n",
        "    [-4,81],\n",
        "    [6,-11]\n",
        "])\n",
        "describe_mat(O)\n"
      ],
      "metadata": {
        "colab": {
          "base_uri": "https://localhost:8080/"
        },
        "id": "G62GNIm_SNK9",
        "outputId": "50ff1d78-c767-4fb1-a8c3-b3654d5a46bc"
      },
      "execution_count": null,
      "outputs": [
        {
          "output_type": "stream",
          "name": "stdout",
          "text": [
            "Matrix:\n",
            "[[ -4  81]\n",
            " [  6 -11]]\n",
            "\n",
            "Shape:\t(2, 2)\n",
            "Rank:\t2\n",
            "\n"
          ]
        }
      ]
    },
    {
      "cell_type": "code",
      "source": [
        "## Declaring a 3 x 2 matrix\n",
        "S = np.array([\n",
        "    [-87, 213],\n",
        "    [595, 7],\n",
        "    [-45, 8]\n",
        "])\n",
        "describe_mat(S)\n"
      ],
      "metadata": {
        "colab": {
          "base_uri": "https://localhost:8080/"
        },
        "id": "BRsED1YBSSMX",
        "outputId": "39de8674-f0d3-480b-eb58-86c62d25bb72"
      },
      "execution_count": null,
      "outputs": [
        {
          "output_type": "stream",
          "name": "stdout",
          "text": [
            "Matrix:\n",
            "[[-87 213]\n",
            " [595   7]\n",
            " [-45   8]]\n",
            "\n",
            "Shape:\t(3, 2)\n",
            "Rank:\t2\n",
            "\n"
          ]
        }
      ]
    },
    {
      "cell_type": "code",
      "source": [
        "H = np.array([\n",
        "    [-41,71,55,4,-9]\n",
        "    ])\n",
        "describe_mat(H)\n"
      ],
      "metadata": {
        "colab": {
          "base_uri": "https://localhost:8080/"
        },
        "id": "F7lTTrlcSgkF",
        "outputId": "d5402964-9b28-4ddb-f0ff-a4d1b9f52811"
      },
      "execution_count": null,
      "outputs": [
        {
          "output_type": "stream",
          "name": "stdout",
          "text": [
            "Matrix:\n",
            "[[-41  71  55   4  -9]]\n",
            "\n",
            "Shape:\t(1, 5)\n",
            "Rank:\t2\n",
            "\n"
          ]
        }
      ]
    },
    {
      "cell_type": "markdown",
      "source": [
        "### Categorizing Matrices"
      ],
      "metadata": {
        "id": "I14TMP2FS8g5"
      }
    },
    {
      "cell_type": "markdown",
      "source": [
        "There are several ways of classifying matrices. Once could be according to their shape and another is according to their element values. We'll try to go through them"
      ],
      "metadata": {
        "id": "BZ8NnZgBZZ0x"
      }
    },
    {
      "cell_type": "markdown",
      "source": [
        "#### According to Shape"
      ],
      "metadata": {
        "id": "EkQMBdGeTOQB"
      }
    },
    {
      "cell_type": "markdown",
      "source": [
        "##### Row and Column Matrices"
      ],
      "metadata": {
        "id": "Ugb4x4SFTqUJ"
      }
    },
    {
      "cell_type": "markdown",
      "source": [
        "Row and column matrices are common in vector and matrix computations. They can also represent row and column spaces of a bigger vector space. Row and column matrices are represented by a single column or single row. So with that being, the shape of row matrices would be 1 x j and column matrices be i x 1."
      ],
      "metadata": {
        "id": "Mu_udmjyZklg"
      }
    },
    {
      "cell_type": "code",
      "source": [
        "## Declaring Row Matrix\n",
        "\n",
        "rowmatrix1D = np.array([\n",
        "    7, -11, 74, -1\n",
        "]) ## this is a 1-D Matrix with a shape of (3,), it's not really considered as a row matrix.\n",
        "row_mat_2D = np.array([\n",
        "    [7,-11,74, -1]\n",
        "]) ## this is a 2-D Matrix with a shape of (1,3)\n",
        "describe_mat(rowmatrix1D)\n",
        "describe_mat(row_mat_2D)\n"
      ],
      "metadata": {
        "colab": {
          "base_uri": "https://localhost:8080/"
        },
        "id": "0kldCi5FTwXG",
        "outputId": "e1654d53-638a-4482-a9b6-5b100cfc5deb"
      },
      "execution_count": null,
      "outputs": [
        {
          "output_type": "stream",
          "name": "stdout",
          "text": [
            "Matrix:\n",
            "[  7 -11  74  -1]\n",
            "\n",
            "Shape:\t(4,)\n",
            "Rank:\t1\n",
            "\n",
            "Matrix:\n",
            "[[  7 -11  74  -1]]\n",
            "\n",
            "Shape:\t(1, 4)\n",
            "Rank:\t2\n",
            "\n"
          ]
        }
      ]
    },
    {
      "cell_type": "code",
      "source": [
        "## Declaring a column matrix\n",
        "\n",
        "col_mat = np.array([\n",
        "    [5],\n",
        "    [8],\n",
        "    [7],\n",
        "    [-25]\n",
        "]) ## this is a 2-D Matrix with a shape of (4,1)\n",
        "describe_mat(col_mat)\n"
      ],
      "metadata": {
        "colab": {
          "base_uri": "https://localhost:8080/"
        },
        "id": "b0ocx_ULUgoE",
        "outputId": "ec83d266-1fb7-4dc0-c57e-3d3596170eff"
      },
      "execution_count": null,
      "outputs": [
        {
          "output_type": "stream",
          "name": "stdout",
          "text": [
            "Matrix:\n",
            "[[  5]\n",
            " [  8]\n",
            " [  7]\n",
            " [-25]]\n",
            "\n",
            "Shape:\t(4, 1)\n",
            "Rank:\t2\n",
            "\n"
          ]
        }
      ]
    },
    {
      "cell_type": "markdown",
      "source": [
        "##### Square Matrices"
      ],
      "metadata": {
        "id": "iXcA-6_tU8RF"
      }
    },
    {
      "cell_type": "markdown",
      "source": [
        "Square matrices are matrices that have the same row and column sizes. We could say a matrix is square if i = j. We can tweak our matrix descriptor function to determine square matrices."
      ],
      "metadata": {
        "id": "me9XAeqzZwLX"
      }
    },
    {
      "cell_type": "code",
      "source": [
        "def describe_mat(matrix):\n",
        "    is_square = True if matrix.shape[0] == matrix.shape[1] else False \n",
        "    print(f'Matrix:\\n{matrix}\\n\\nShape:\\t{matrix.shape}\\nRank:\\t{matrix.ndim}\\nIs Square: {is_square}\\n')"
      ],
      "metadata": {
        "id": "HtGV2TMMVQYZ"
      },
      "execution_count": null,
      "outputs": []
    },
    {
      "cell_type": "code",
      "source": [
        "square_mat = np.array([\n",
        "    [-5,74,9],\n",
        "    [8,7,20],\n",
        "    [-2,4,9]\n",
        "])\n",
        "\n",
        "non_square_mat = np.array([\n",
        "    [55,-7,23],\n",
        "    [2,7,31]\n",
        "])\n",
        "describe_mat(square_mat)\n",
        "describe_mat(non_square_mat)\n"
      ],
      "metadata": {
        "colab": {
          "base_uri": "https://localhost:8080/"
        },
        "id": "RY9jpjOzVb-d",
        "outputId": "d1278687-46b8-44e9-eadc-bec1ebc2b0ce"
      },
      "execution_count": null,
      "outputs": [
        {
          "output_type": "stream",
          "name": "stdout",
          "text": [
            "Matrix:\n",
            "[[-5 74  9]\n",
            " [ 8  7 20]\n",
            " [-2  4  9]]\n",
            "\n",
            "Shape:\t(3, 3)\n",
            "Rank:\t2\n",
            "Is Square: True\n",
            "\n",
            "Matrix:\n",
            "[[55 -7 23]\n",
            " [ 2  7 31]]\n",
            "\n",
            "Shape:\t(2, 3)\n",
            "Rank:\t2\n",
            "Is Square: False\n",
            "\n"
          ]
        }
      ]
    },
    {
      "cell_type": "markdown",
      "source": [
        "#### According to Element Values"
      ],
      "metadata": {
        "id": "aWCXaEAEWHDq"
      }
    },
    {
      "cell_type": "markdown",
      "source": [
        "##### Null Matrix"
      ],
      "metadata": {
        "id": "6-KaVv-eWKnR"
      }
    },
    {
      "cell_type": "markdown",
      "source": [
        "A Null Matrix is a matrix that has no elements. It is always a subspace of any vector or matrix. Adding a null matrix to any other matrix produces the same outcome, a null matrix is also known as the additive identity of the provided matrix."
      ],
      "metadata": {
        "id": "BWr6qIBcZ7TU"
      }
    },
    {
      "cell_type": "code",
      "source": [
        "def describe_mat(matrix):\n",
        "    if matrix.size > 0:\n",
        "        is_square = True if matrix.shape[0] == matrix.shape[1] else False \n",
        "        print(f'Matrix:\\n{matrix}\\n\\nShape:\\t{matrix.shape}\\nRank:\\t{matrix.ndim}\\nIs Square: {is_square}\\n')\n",
        "    else:\n",
        "        print('Matrix is Null')\n"
      ],
      "metadata": {
        "id": "QBdK-TCMWMiz"
      },
      "execution_count": null,
      "outputs": []
    },
    {
      "cell_type": "code",
      "source": [
        "null_mat = np.array([])\n",
        "describe_mat(null_mat)\n"
      ],
      "metadata": {
        "colab": {
          "base_uri": "https://localhost:8080/"
        },
        "id": "b3x0PJB6WTjj",
        "outputId": "e983d242-87aa-4ef6-b3cc-2baad4616e7b"
      },
      "execution_count": null,
      "outputs": [
        {
          "output_type": "stream",
          "name": "stdout",
          "text": [
            "Matrix is Null\n"
          ]
        }
      ]
    },
    {
      "cell_type": "markdown",
      "source": [
        "##### Zero Matrix"
      ],
      "metadata": {
        "id": "rGF1JRALWYVH"
      }
    },
    {
      "cell_type": "markdown",
      "source": [
        "A zero matrix can be any rectangular matrix but with all elements having a value of 0. It also acts as the additive identification of the cumulative group of matrices, and is represented by a notation or subscripts according to the matrix's dimension."
      ],
      "metadata": {
        "id": "vpzeigCoaEIb"
      }
    },
    {
      "cell_type": "code",
      "source": [
        "zero_mat_row = np.zeros((1,9))\n",
        "zero_mat_sqr = np.zeros((4,4))\n",
        "zero_mat_rct = np.zeros((5,2))\n",
        "\n",
        "print(f'Zero Row Matrix: \\n{zero_mat_row}')\n",
        "print(f'Zero Square Matrix: \\n{zero_mat_sqr}')\n",
        "print(f'Zero Rectangular Matrix: \\n{zero_mat_rct}')\n"
      ],
      "metadata": {
        "colab": {
          "base_uri": "https://localhost:8080/"
        },
        "id": "Z1AsoigSXTyk",
        "outputId": "02efdbf2-12f5-4b49-d3f8-a2bfd83f0f83"
      },
      "execution_count": null,
      "outputs": [
        {
          "output_type": "stream",
          "name": "stdout",
          "text": [
            "Zero Row Matrix: \n",
            "[[0. 0. 0. 0. 0. 0. 0. 0. 0.]]\n",
            "Zero Square Matrix: \n",
            "[[0. 0. 0. 0.]\n",
            " [0. 0. 0. 0.]\n",
            " [0. 0. 0. 0.]\n",
            " [0. 0. 0. 0.]]\n",
            "Zero Rectangular Matrix: \n",
            "[[0. 0.]\n",
            " [0. 0.]\n",
            " [0. 0.]\n",
            " [0. 0.]\n",
            " [0. 0.]]\n"
          ]
        }
      ]
    },
    {
      "cell_type": "markdown",
      "source": [
        "##### Ones Matrix"
      ],
      "metadata": {
        "id": "mYUuUdjyXkvm"
      }
    },
    {
      "cell_type": "markdown",
      "source": [
        "A ones matrix, just like the zero matrix, can be any rectangular matrix but all of its elements are 1s instead of 0s."
      ],
      "metadata": {
        "id": "XL177rOFaGdT"
      }
    },
    {
      "cell_type": "code",
      "source": [
        "ones_mat_row = np.ones((1,8))\n",
        "ones_mat_sqr = np.ones((6,6))\n",
        "ones_mat_rct = np.ones((7,2))\n",
        "\n",
        "print(f'Ones Row Matrix: \\n{ones_mat_row}')\n",
        "print(f'Ones Square Matrix: \\n{ones_mat_sqr}')\n",
        "print(f'Ones Rectangular Matrix: \\n{ones_mat_rct}')\n"
      ],
      "metadata": {
        "colab": {
          "base_uri": "https://localhost:8080/"
        },
        "id": "Mm9siul4XmvJ",
        "outputId": "97b09813-4f35-4b91-c87a-c8e292097173"
      },
      "execution_count": null,
      "outputs": [
        {
          "output_type": "stream",
          "name": "stdout",
          "text": [
            "Ones Row Matrix: \n",
            "[[1. 1. 1. 1. 1. 1. 1. 1.]]\n",
            "Ones Square Matrix: \n",
            "[[1. 1. 1. 1. 1. 1.]\n",
            " [1. 1. 1. 1. 1. 1.]\n",
            " [1. 1. 1. 1. 1. 1.]\n",
            " [1. 1. 1. 1. 1. 1.]\n",
            " [1. 1. 1. 1. 1. 1.]\n",
            " [1. 1. 1. 1. 1. 1.]]\n",
            "Ones Rectangular Matrix: \n",
            "[[1. 1.]\n",
            " [1. 1.]\n",
            " [1. 1.]\n",
            " [1. 1.]\n",
            " [1. 1.]\n",
            " [1. 1.]\n",
            " [1. 1.]]\n"
          ]
        }
      ]
    },
    {
      "cell_type": "markdown",
      "source": [
        "##### Diagonal Matrix"
      ],
      "metadata": {
        "id": "CFIjgJM5XrLQ"
      }
    },
    {
      "cell_type": "markdown",
      "source": [
        "A diagonal matrix is a square matrix that has values only at the diagonal of the matrix.Usually, the phrase refers to square matrices. The primary diagonal's components can be either zero or nonzero."
      ],
      "metadata": {
        "id": "QateXdj0aKxT"
      }
    },
    {
      "cell_type": "code",
      "source": [
        "np.array([\n",
        "    [-4,0,0],\n",
        "    [0,64,0],\n",
        "    [0,0,71]\n",
        "])\n",
        "# a[1,1], a[2,2], a[3,3], ... a[n-1,n-1]"
      ],
      "metadata": {
        "colab": {
          "base_uri": "https://localhost:8080/"
        },
        "id": "PLDh9SAcYAak",
        "outputId": "e6a35e2f-be6e-49e6-bc30-7f023f8ade22"
      },
      "execution_count": null,
      "outputs": [
        {
          "output_type": "execute_result",
          "data": {
            "text/plain": [
              "array([[-4,  0,  0],\n",
              "       [ 0, 64,  0],\n",
              "       [ 0,  0, 71]])"
            ]
          },
          "metadata": {},
          "execution_count": 70
        }
      ]
    },
    {
      "cell_type": "code",
      "source": [
        "d = np.diag([4,-11,61,10])\n",
        "#d.shape[0] == d.shape[1]\n",
        "d"
      ],
      "metadata": {
        "colab": {
          "base_uri": "https://localhost:8080/"
        },
        "id": "oPTFQmGTYL7g",
        "outputId": "3cf5d4cb-ab90-4d4a-82be-e7decdab4d02"
      },
      "execution_count": null,
      "outputs": [
        {
          "output_type": "execute_result",
          "data": {
            "text/plain": [
              "array([[  4,   0,   0,   0],\n",
              "       [  0, -11,   0,   0],\n",
              "       [  0,   0,  61,   0],\n",
              "       [  0,   0,   0,  10]])"
            ]
          },
          "metadata": {},
          "execution_count": 71
        }
      ]
    },
    {
      "cell_type": "markdown",
      "source": [
        "##### Identity Matrix"
      ],
      "metadata": {
        "id": "pJ31P0QVYs4s"
      }
    },
    {
      "cell_type": "markdown",
      "source": [
        "An identity matrix is a special diagonal matrix in which the values at the diagonal are ones."
      ],
      "metadata": {
        "id": "pEHVePRpaPAh"
      }
    },
    {
      "cell_type": "code",
      "source": [
        "np.eye(5)"
      ],
      "metadata": {
        "colab": {
          "base_uri": "https://localhost:8080/"
        },
        "id": "6lMa9i8KYxGT",
        "outputId": "9e581662-7069-47db-f37e-a163475ce6eb"
      },
      "execution_count": null,
      "outputs": [
        {
          "output_type": "execute_result",
          "data": {
            "text/plain": [
              "array([[1., 0., 0., 0., 0.],\n",
              "       [0., 1., 0., 0., 0.],\n",
              "       [0., 0., 1., 0., 0.],\n",
              "       [0., 0., 0., 1., 0.],\n",
              "       [0., 0., 0., 0., 1.]])"
            ]
          },
          "metadata": {},
          "execution_count": 72
        }
      ]
    },
    {
      "cell_type": "code",
      "source": [
        "np.identity(3)"
      ],
      "metadata": {
        "colab": {
          "base_uri": "https://localhost:8080/"
        },
        "id": "PSqZ4CxOY31F",
        "outputId": "eaaa0a15-b6a4-44db-94a6-fe9c1eae8d2f"
      },
      "execution_count": null,
      "outputs": [
        {
          "output_type": "execute_result",
          "data": {
            "text/plain": [
              "array([[1., 0., 0.],\n",
              "       [0., 1., 0.],\n",
              "       [0., 0., 1.]])"
            ]
          },
          "metadata": {},
          "execution_count": 73
        }
      ]
    },
    {
      "cell_type": "markdown",
      "source": [
        "##### Upper Triangular Matrix"
      ],
      "metadata": {
        "id": "Wy4XZSPYZMMh"
      }
    },
    {
      "cell_type": "markdown",
      "source": [
        "An upper triangular matrix is a matrix that has no values below the diagonal."
      ],
      "metadata": {
        "id": "7UKwW9WMaUMe"
      }
    },
    {
      "cell_type": "code",
      "source": [
        "np.array([\n",
        "    [-42,3,22,-7],\n",
        "    [0,3,14,-4],\n",
        "    [0,0,3,10],\n",
        "    [0,0,0,74]\n",
        "])"
      ],
      "metadata": {
        "colab": {
          "base_uri": "https://localhost:8080/"
        },
        "id": "wC2tGsPAZPQo",
        "outputId": "8b4d53d7-ff5d-46cb-a356-fee5943c4d7d"
      },
      "execution_count": null,
      "outputs": [
        {
          "output_type": "execute_result",
          "data": {
            "text/plain": [
              "array([[-42,   3,  22,  -7],\n",
              "       [  0,   3,  14,  -4],\n",
              "       [  0,   0,   3,  10],\n",
              "       [  0,   0,   0,  74]])"
            ]
          },
          "metadata": {},
          "execution_count": 74
        }
      ]
    },
    {
      "cell_type": "code",
      "source": [
        "F = np.array([\n",
        "              [4, 6, -8, 5, 11],\n",
        "              [4, 6, -8, 5, 11],\n",
        "              [4, 6, -8, 5, 11],\n",
        "              [4, 6, -8, 5, 11],\n",
        "              [4, 6, -8, 5, 11],\n",
        "])\n",
        "np.triu(F)"
      ],
      "metadata": {
        "colab": {
          "base_uri": "https://localhost:8080/"
        },
        "id": "Jubc0AfoZxLy",
        "outputId": "a0d08251-bc1e-486a-ab13-c4c3de384973"
      },
      "execution_count": null,
      "outputs": [
        {
          "output_type": "execute_result",
          "data": {
            "text/plain": [
              "array([[ 4,  6, -8,  5, 11],\n",
              "       [ 0,  6, -8,  5, 11],\n",
              "       [ 0,  0, -8,  5, 11],\n",
              "       [ 0,  0,  0,  5, 11],\n",
              "       [ 0,  0,  0,  0, 11]])"
            ]
          },
          "metadata": {},
          "execution_count": 75
        }
      ]
    },
    {
      "cell_type": "markdown",
      "source": [
        "##### Lower Triangular Matrix\n",
        "A lower triangular matrix is a matrix that has no values above the diagonal."
      ],
      "metadata": {
        "id": "-ZrWCPTrZ3dC"
      }
    },
    {
      "cell_type": "code",
      "source": [
        "np.tril(F)"
      ],
      "metadata": {
        "colab": {
          "base_uri": "https://localhost:8080/"
        },
        "id": "9aB3zcEdaNBV",
        "outputId": "480bd722-0080-4348-c1cb-0e9c703af067"
      },
      "execution_count": null,
      "outputs": [
        {
          "output_type": "execute_result",
          "data": {
            "text/plain": [
              "array([[ 4,  0,  0,  0,  0],\n",
              "       [ 4,  6,  0,  0,  0],\n",
              "       [ 4,  6, -8,  0,  0],\n",
              "       [ 4,  6, -8,  5,  0],\n",
              "       [ 4,  6, -8,  5, 11]])"
            ]
          },
          "metadata": {},
          "execution_count": 76
        }
      ]
    },
    {
      "cell_type": "code",
      "source": [
        "np.array([\n",
        "          [2,0,0],\n",
        "          [-10,4,0],\n",
        "          [22,1,-85]\n",
        "])"
      ],
      "metadata": {
        "colab": {
          "base_uri": "https://localhost:8080/"
        },
        "id": "jwJ76u4kacXD",
        "outputId": "15f56129-f570-4b87-af48-7cce4004635e"
      },
      "execution_count": null,
      "outputs": [
        {
          "output_type": "execute_result",
          "data": {
            "text/plain": [
              "array([[  2,   0,   0],\n",
              "       [-10,   4,   0],\n",
              "       [ 22,   1, -85]])"
            ]
          },
          "metadata": {},
          "execution_count": 77
        }
      ]
    },
    {
      "cell_type": "markdown",
      "source": [
        "##Practice"
      ],
      "metadata": {
        "id": "1K7Rqmygahx-"
      }
    },
    {
      "cell_type": "markdown",
      "source": [
        "1. Given the linear combination below, try to create a corresponding matrix representing it.\n"
      ],
      "metadata": {
        "id": "DswmC4ZibB67"
      }
    },
    {
      "cell_type": "markdown",
      "source": [
        ":$$\\theta = 5x + 3y - z$$"
      ],
      "metadata": {
        "id": "z4OWuPIzbG8W"
      }
    },
    {
      "cell_type": "code",
      "source": [
        "θ = ([5,3,-1])\n",
        "θ"
      ],
      "metadata": {
        "colab": {
          "base_uri": "https://localhost:8080/"
        },
        "id": "qSll7_twN_mU",
        "outputId": "d4ce9b33-982f-4676-df20-5cab6a342810"
      },
      "execution_count": null,
      "outputs": [
        {
          "output_type": "execute_result",
          "data": {
            "text/plain": [
              "[5, 3, -1]"
            ]
          },
          "metadata": {},
          "execution_count": 78
        }
      ]
    },
    {
      "cell_type": "markdown",
      "source": [
        "2. Given the system of linear combinations below, try to encode it as a matrix. Also describe the matrix.\n"
      ],
      "metadata": {
        "id": "HUR3-shnbIQr"
      }
    },
    {
      "cell_type": "markdown",
      "source": [
        "$$\n",
        "A = \\left\\{\\begin{array}\n",
        "5x_1 + 2x_2 +x_3\\\\\n",
        "4x_2 - x_3\\\\\n",
        "10x_3\n",
        "\\end{array}\\right.\n",
        "$$\n"
      ],
      "metadata": {
        "id": "jCJCef0hbLGO"
      }
    },
    {
      "cell_type": "code",
      "source": [
        "def describe_mat(matrix):\n",
        "    print(f'Matrix:\\n{matrix}\\n\\nShape:\\t{matrix.shape}\\nRank:\\t{matrix.ndim}\\n')"
      ],
      "metadata": {
        "id": "vRzk2ax-ZVyH"
      },
      "execution_count": null,
      "outputs": []
    },
    {
      "cell_type": "code",
      "source": [
        "A = np.array([\n",
        "      [1,2,1],\n",
        "      [0,4,-3],\n",
        "      [0,0,10]\n",
        "])\n",
        "describe_mat(A)"
      ],
      "metadata": {
        "colab": {
          "base_uri": "https://localhost:8080/"
        },
        "id": "d5Wq6WDQZ-19",
        "outputId": "5d16509d-4268-49c7-b349-e5efa5d5c37c"
      },
      "execution_count": null,
      "outputs": [
        {
          "output_type": "stream",
          "name": "stdout",
          "text": [
            "Matrix:\n",
            "[[ 1  2  1]\n",
            " [ 0  4 -3]\n",
            " [ 0  0 10]]\n",
            "\n",
            "Shape:\t(3, 3)\n",
            "Rank:\t2\n",
            "\n"
          ]
        }
      ]
    },
    {
      "cell_type": "markdown",
      "source": [
        "3. Given the matrix below, express it as a linear combination in a markdown and a LaTeX markdown\n"
      ],
      "metadata": {
        "id": "japHxdO-bNH7"
      }
    },
    {
      "cell_type": "code",
      "source": [
        "G = np.array([\n",
        "    [1,7,8],\n",
        "    [2,2,2],\n",
        "    [4,6,7]\n",
        "])"
      ],
      "metadata": {
        "id": "X9ZGvkNPbZ6P"
      },
      "execution_count": null,
      "outputs": []
    },
    {
      "cell_type": "markdown",
      "source": [
        "$$\n",
        "G=\\begin{bmatrix} 1 & 7 & 8 \\\\ 2 & 2 & 2 \\\\ 4 & 6 & 7\\end{bmatrix}\n",
        "$$\n"
      ],
      "metadata": {
        "id": "Z_HW0_9KQ2gs"
      }
    },
    {
      "cell_type": "markdown",
      "source": [
        "$$\n",
        "G = \\left\\{\\begin{array}\n",
        "1x_1 + 7x_2 + 8x_3\\\\\n",
        "2x_1 + 2x_2 - 2x_3\\\\\n",
        "4x_1 + 6x_2 + 7x_3\n",
        "\\end{array}\\right.\n",
        "$$\n"
      ],
      "metadata": {
        "id": "YgO_ox1WPmvC"
      }
    },
    {
      "cell_type": "markdown",
      "source": [
        "4. Given the matrix below, display the output as a LaTeX markdown also express it as a system of linear combinations.\n"
      ],
      "metadata": {
        "id": "a9AzMWRsbSZG"
      }
    },
    {
      "cell_type": "code",
      "source": [
        "H = np.tril(G)\n",
        "H"
      ],
      "metadata": {
        "colab": {
          "base_uri": "https://localhost:8080/"
        },
        "id": "OeOZIaFvbfZF",
        "outputId": "1eaf5b5e-9193-4923-9330-8793ba1db993"
      },
      "execution_count": null,
      "outputs": [
        {
          "output_type": "execute_result",
          "data": {
            "text/plain": [
              "array([[1, 0, 0],\n",
              "       [2, 2, 0],\n",
              "       [4, 6, 7]])"
            ]
          },
          "metadata": {},
          "execution_count": 82
        }
      ]
    },
    {
      "cell_type": "markdown",
      "source": [
        "$$\n",
        "G = \\left\\{\\begin{array}\n",
        "1x_1 \\\\\n",
        "2x_1 + 2x_2\\\\\n",
        "4x_1 + 6x_2 + 7x_3\n",
        "\\end{array}\\right.\n",
        "$$\n",
        "\\\n",
        "$$\n",
        "G=\\begin{bmatrix} 1 & 0 & 0 \\\\ 2 & 2 & 0 \\\\ 4 & 6 & 7\\end{bmatrix}\n",
        "$$"
      ],
      "metadata": {
        "id": "8UlzzwGDNctx"
      }
    },
    {
      "cell_type": "markdown",
      "source": [
        "##Matrix Algebra"
      ],
      "metadata": {
        "id": "a1U_fSmkawER"
      }
    },
    {
      "cell_type": "markdown",
      "source": [
        "###Addition"
      ],
      "metadata": {
        "id": "rq6Gi9evayPX"
      }
    },
    {
      "cell_type": "code",
      "source": [
        "A = np.array([\n",
        "    [13,5,3],\n",
        "    [-9,6,7],\n",
        "    [7,-3,4]\n",
        "])\n",
        "B = np.array([\n",
        "    [9,14,1],\n",
        "    [1,11,0],\n",
        "    [2,-4,-2]\n",
        "])\n",
        "A+B"
      ],
      "metadata": {
        "colab": {
          "base_uri": "https://localhost:8080/"
        },
        "id": "hBSuv0F3azz7",
        "outputId": "a6c8f30b-f6c0-436a-a24d-b4f65fa23f6b"
      },
      "execution_count": null,
      "outputs": [
        {
          "output_type": "execute_result",
          "data": {
            "text/plain": [
              "array([[22, 19,  4],\n",
              "       [-8, 17,  7],\n",
              "       [ 9, -7,  2]])"
            ]
          },
          "metadata": {},
          "execution_count": 83
        }
      ]
    },
    {
      "cell_type": "code",
      "source": [
        "2+A ##Broadcasting\n",
        "# 2*np.ones(A.shape)+A"
      ],
      "metadata": {
        "colab": {
          "base_uri": "https://localhost:8080/"
        },
        "id": "kwKwhBgta99l",
        "outputId": "eee76d8a-84cc-43ac-c533-0fdad43a0dfb"
      },
      "execution_count": null,
      "outputs": [
        {
          "output_type": "execute_result",
          "data": {
            "text/plain": [
              "array([[15,  7,  5],\n",
              "       [-7,  8,  9],\n",
              "       [ 9, -1,  6]])"
            ]
          },
          "metadata": {},
          "execution_count": 84
        }
      ]
    },
    {
      "cell_type": "markdown",
      "source": [
        "###Subtraction"
      ],
      "metadata": {
        "id": "F5RwXtKQbFDZ"
      }
    },
    {
      "cell_type": "code",
      "source": [
        "A-B"
      ],
      "metadata": {
        "colab": {
          "base_uri": "https://localhost:8080/"
        },
        "id": "7DC330R2bDY_",
        "outputId": "9b213e44-97d7-4730-da8c-7d83c1562300"
      },
      "execution_count": null,
      "outputs": [
        {
          "output_type": "execute_result",
          "data": {
            "text/plain": [
              "array([[  4,  -9,   2],\n",
              "       [-10,  -5,   7],\n",
              "       [  5,   1,   6]])"
            ]
          },
          "metadata": {},
          "execution_count": 85
        }
      ]
    },
    {
      "cell_type": "code",
      "source": [
        "3-B == 3*np.ones(B.shape)-B"
      ],
      "metadata": {
        "colab": {
          "base_uri": "https://localhost:8080/"
        },
        "id": "JIu3Ni8LbHz7",
        "outputId": "f5164c79-b393-40b3-bbe3-1a42a81006a8"
      },
      "execution_count": null,
      "outputs": [
        {
          "output_type": "execute_result",
          "data": {
            "text/plain": [
              "array([[ True,  True,  True],\n",
              "       [ True,  True,  True],\n",
              "       [ True,  True,  True]])"
            ]
          },
          "metadata": {},
          "execution_count": 86
        }
      ]
    },
    {
      "cell_type": "markdown",
      "source": [
        "###Element-wise Multiplication"
      ],
      "metadata": {
        "id": "xEIp5NUIbK7v"
      }
    },
    {
      "cell_type": "code",
      "source": [
        "A*B\n",
        "np.multiply(A,B)"
      ],
      "metadata": {
        "colab": {
          "base_uri": "https://localhost:8080/"
        },
        "id": "Rf4M7CXcbN5x",
        "outputId": "e0239e87-f2e3-41da-e7f3-ae87f495ce4f"
      },
      "execution_count": null,
      "outputs": [
        {
          "output_type": "execute_result",
          "data": {
            "text/plain": [
              "array([[117,  70,   3],\n",
              "       [ -9,  66,   0],\n",
              "       [ 14,  12,  -8]])"
            ]
          },
          "metadata": {},
          "execution_count": 87
        }
      ]
    },
    {
      "cell_type": "code",
      "source": [
        "2*A"
      ],
      "metadata": {
        "colab": {
          "base_uri": "https://localhost:8080/"
        },
        "id": "Dd1dZdiobQjA",
        "outputId": "2f6f85bf-3d1b-4c39-c702-d4bc194be59e"
      },
      "execution_count": null,
      "outputs": [
        {
          "output_type": "execute_result",
          "data": {
            "text/plain": [
              "array([[ 26,  10,   6],\n",
              "       [-18,  12,  14],\n",
              "       [ 14,  -6,   8]])"
            ]
          },
          "metadata": {},
          "execution_count": 88
        }
      ]
    },
    {
      "cell_type": "code",
      "source": [
        "alpha=10**-12\n",
        "A/(alpha+B)"
      ],
      "metadata": {
        "colab": {
          "base_uri": "https://localhost:8080/"
        },
        "id": "vd-jH1j6bRu2",
        "outputId": "d6d631f2-932c-4020-bb8c-665620796f26"
      },
      "execution_count": null,
      "outputs": [
        {
          "output_type": "execute_result",
          "data": {
            "text/plain": [
              "array([[ 1.44444444e+00,  3.57142857e-01,  3.00000000e+00],\n",
              "       [-9.00000000e+00,  5.45454545e-01,  7.00000000e+12],\n",
              "       [ 3.50000000e+00,  7.50000000e-01, -2.00000000e+00]])"
            ]
          },
          "metadata": {},
          "execution_count": 89
        }
      ]
    },
    {
      "cell_type": "code",
      "source": [
        "np.add(A,B)"
      ],
      "metadata": {
        "colab": {
          "base_uri": "https://localhost:8080/"
        },
        "id": "Uif-I03fbZ9g",
        "outputId": "dcb73839-65f7-4645-82f7-2d0a2d0dfae8"
      },
      "execution_count": null,
      "outputs": [
        {
          "output_type": "execute_result",
          "data": {
            "text/plain": [
              "array([[22, 19,  4],\n",
              "       [-8, 17,  7],\n",
              "       [ 9, -7,  2]])"
            ]
          },
          "metadata": {},
          "execution_count": 90
        }
      ]
    },
    {
      "cell_type": "markdown",
      "source": [
        "##Activity"
      ],
      "metadata": {
        "id": "ifma6iNjbfLN"
      }
    },
    {
      "cell_type": "markdown",
      "source": [
        "###Task 1\n",
        "Create a function named mat_desc()  that througouhly describes a matrix, it should:\n",
        "\n",
        "  1. Displays the shape, size, and rank of the matrix.\n",
        "  2. Displays whether the matrix is square or non-square.\n",
        "  3. Displays whether the matrix is an empty matrix.\n",
        "  4. Displays if the matrix is an identity, ones, or zeros matrix\n",
        "\n",
        "Use 5 sample matrices in which their shapes are not lower than (3,3). In your methodology, create a flowchart discuss the functions and methods you have done. Present your results in the results section showing the description of each matrix you have declared."
      ],
      "metadata": {
        "id": "3gqJUV36bhhL"
      }
    },
    {
      "cell_type": "code",
      "source": [
        "## Function area\n",
        "import numpy as np\n",
        "import matplotlib.pyplot as plt\n",
        "import scipy.linalg as la\n",
        "%matplotlib inline"
      ],
      "metadata": {
        "id": "is8qppeZb9o4"
      },
      "execution_count": null,
      "outputs": []
    },
    {
      "cell_type": "code",
      "source": [
        "def mat_desc(matrix):\n",
        "    if matrix.size > 0:\n",
        "      is_square = True if matrix.shape[0] == matrix.shape[1] else False \n",
        "      print(f'Matrix:\\n{matrix}\\n\\nDescription:\\n\\nShape:\\t{matrix.shape}\\nRank:\\t{matrix.ndim}\\nSquare: {is_square}\\n\\nSize:\\t{matrix.size}')\n",
        "    else:\n",
        "      print('Matrix has no contents')"
      ],
      "metadata": {
        "id": "hYfZekXFTVMY"
      },
      "execution_count": null,
      "outputs": []
    },
    {
      "cell_type": "code",
      "source": [
        "## Matrix declarations\n",
        "P = zero_mat_row = np.zeros((3,3))\n",
        "U = ones_mat_rct = np.ones((4,4))"
      ],
      "metadata": {
        "id": "cdrT48OOcA-E"
      },
      "execution_count": null,
      "outputs": []
    },
    {
      "cell_type": "code",
      "source": [
        "M = np.array([\n",
        "              [33,44,49],\n",
        "              [55,44,32],\n",
        "              [23,18,20],\n",
        "              [10,20,30]\n",
        "])\n",
        "A = np.array([\n",
        "              [10,20,30,40,3],\n",
        "              [5,10,15,20,6],\n",
        "              [60,50,33,78,9],\n",
        "              [66,44,33,44,12],\n",
        "              [66,11,22,88,18]\n",
        "])\n",
        "R = np.array([])"
      ],
      "metadata": {
        "id": "OIyphdovHNG5"
      },
      "execution_count": null,
      "outputs": []
    },
    {
      "cell_type": "code",
      "source": [
        "## Test Areas\n",
        "mat_desc(M)"
      ],
      "metadata": {
        "id": "T_k-R8EucCS3",
        "colab": {
          "base_uri": "https://localhost:8080/"
        },
        "outputId": "4d56b747-cc61-4c96-99c2-3b8c886d243c"
      },
      "execution_count": null,
      "outputs": [
        {
          "output_type": "stream",
          "name": "stdout",
          "text": [
            "Matrix:\n",
            "[[33 44 49]\n",
            " [55 44 32]\n",
            " [23 18 20]\n",
            " [10 20 30]]\n",
            "\n",
            "Description:\n",
            "\n",
            "Shape:\t(4, 3)\n",
            "Rank:\t2\n",
            "Square: False\n",
            "\n",
            "Size:\t12\n"
          ]
        }
      ]
    },
    {
      "cell_type": "code",
      "source": [
        "mat_desc(A)"
      ],
      "metadata": {
        "colab": {
          "base_uri": "https://localhost:8080/"
        },
        "outputId": "ae83402d-20f9-49cc-ee8d-fbd21775a4c1",
        "id": "3tcxyNe3Jl3z"
      },
      "execution_count": null,
      "outputs": [
        {
          "output_type": "stream",
          "name": "stdout",
          "text": [
            "Matrix:\n",
            "[[10 20 30 40  3]\n",
            " [ 5 10 15 20  6]\n",
            " [60 50 33 78  9]\n",
            " [66 44 33 44 12]\n",
            " [66 11 22 88 18]]\n",
            "\n",
            "Description:\n",
            "\n",
            "Shape:\t(5, 5)\n",
            "Rank:\t2\n",
            "Square: True\n",
            "\n",
            "Size:\t25\n"
          ]
        }
      ]
    },
    {
      "cell_type": "code",
      "source": [
        "mat_desc(R)"
      ],
      "metadata": {
        "colab": {
          "base_uri": "https://localhost:8080/"
        },
        "id": "mMXFbSmAJk2a",
        "outputId": "d370ec3f-7947-43ba-ff5f-bea445fa2f3f"
      },
      "execution_count": null,
      "outputs": [
        {
          "output_type": "stream",
          "name": "stdout",
          "text": [
            "Matrix has no contents\n"
          ]
        }
      ]
    },
    {
      "cell_type": "code",
      "source": [
        "mat_desc(P)"
      ],
      "metadata": {
        "colab": {
          "base_uri": "https://localhost:8080/"
        },
        "id": "TalrNFqyKWpG",
        "outputId": "73bcd341-3eeb-44a9-88a1-a3906742b481"
      },
      "execution_count": null,
      "outputs": [
        {
          "output_type": "stream",
          "name": "stdout",
          "text": [
            "Matrix:\n",
            "[[0. 0. 0.]\n",
            " [0. 0. 0.]\n",
            " [0. 0. 0.]]\n",
            "\n",
            "Description:\n",
            "\n",
            "Shape:\t(3, 3)\n",
            "Rank:\t2\n",
            "Square: True\n",
            "\n",
            "Size:\t9\n"
          ]
        }
      ]
    },
    {
      "cell_type": "code",
      "source": [
        "mat_desc(U)"
      ],
      "metadata": {
        "colab": {
          "base_uri": "https://localhost:8080/"
        },
        "id": "AspFkEVLKxX5",
        "outputId": "b98757f0-b613-4efd-8fde-080f0993a315"
      },
      "execution_count": null,
      "outputs": [
        {
          "output_type": "stream",
          "name": "stdout",
          "text": [
            "Matrix:\n",
            "[[1. 1. 1. 1.]\n",
            " [1. 1. 1. 1.]\n",
            " [1. 1. 1. 1.]\n",
            " [1. 1. 1. 1.]]\n",
            "\n",
            "Description:\n",
            "\n",
            "Shape:\t(4, 4)\n",
            "Rank:\t2\n",
            "Square: True\n",
            "\n",
            "Size:\t16\n"
          ]
        }
      ]
    },
    {
      "cell_type": "markdown",
      "source": [
        "### Task 2\n",
        "Create a function named mat_operations() that takes in two matrices a input parameters it should:\n",
        "\n",
        "  1. Determines if the matrices are viable for operation and returns your own error message if they are not viable.\n",
        "  2. Returns the sum of the matrices.\n",
        "  3. Returns the difference of the matrices.\n",
        "  4. Returns the element-wise multiplication of the matrices.\n",
        "  5. Returns the element-wise division of the matrices.\n",
        "\n",
        "Use 5 sample matrices in which their shapes are not lower than (3,3) . In your methodology, create a flowchart discuss the functions and methods you have done. Present your results in the results section showing the description of each matrix you have declared."
      ],
      "metadata": {
        "id": "oU2YW81IcGWJ"
      }
    },
    {
      "cell_type": "code",
      "source": [
        "## Function area\n",
        "import numpy as np\n",
        "import matplotlib.pyplot as plt\n",
        "import scipy.linalg as la\n",
        "%matplotlib inline\n"
      ],
      "metadata": {
        "id": "pdF2hypk6vLO"
      },
      "execution_count": null,
      "outputs": []
    },
    {
      "cell_type": "code",
      "source": [
        "def mat_operations(firstArray, secondArray):\n",
        "  if len(firstArray) == len(secondArray):\n",
        "    sum = firstArray + secondArray\n",
        "    dif = firstArray - secondArray\n",
        "    div = firstArray / secondArray\n",
        "    mul = firstArray * secondArray\n",
        "    print(f'Sum:\\n{sum}\\n\\nDiferrence:\\n{dif}\\n\\nQuotient:\\n{div}\\n\\nProduct:\\n{mul}')\n",
        "    print(\"\\nTherefore, matrices are viable for operation.\")\n",
        "  else:\n",
        "    print(\"Matrices are not viable for operation.\")\n"
      ],
      "metadata": {
        "id": "NyyXmUbkSPnv"
      },
      "execution_count": null,
      "outputs": []
    },
    {
      "cell_type": "code",
      "source": [
        "## Mat declarations\n",
        "F = np.array([\n",
        "    [1,3,2,5],\n",
        "    [-13,47,-5,31],\n",
        "    [1,2,-2,67],\n",
        "    [4,-8,-21,30]\n",
        "])\n",
        "K = np.array([\n",
        "    [74,9,-6,5],\n",
        "    [16,11,10,-7],\n",
        "    [73,-4,-7,10],\n",
        "    [-9,47,-8,-8]\n",
        "])\n",
        "E = np.array([\n",
        "              [10,20,30,11],\n",
        "              [12,-13,-15,14],\n",
        "              [23,-1,3,7],\n",
        "              [5,-9,9,1]\n",
        "])\n",
        "G = np.array([\n",
        "              [1,2,3,10],\n",
        "              [12,-2,15,4],\n",
        "              [2,1,1,6],\n",
        "              [5,1,18,-7]\n",
        "])\n",
        "O = np.array([\n",
        "              [1,2,3,10],\n",
        "              [12,-2,15,4],\n",
        "              [2,1,0,6],\n",
        "              [5,0,18,-7]\n",
        "])\n",
        "Z = np.array([\n",
        "              [1,2,3,10],\n",
        "              [12,-2,15,4],\n",
        "              [2,1,0,6],\n",
        "])\n",
        "Q = np.array([\n",
        "              [0,-1,-5-6,10],\n",
        "              [12,3,-15,14,9],\n",
        "              [5,5,-5,3,6]\n",
        "])\n",
        "T = np.array([\n",
        "              [3,6,9],\n",
        "              [2,4,6],\n",
        "              [2,1,0],\n",
        "              [5,10,15]\n",
        "])\n",
        "B = np.array([\n",
        "              [4,8,12],\n",
        "              [6,12,-18],\n",
        "              [7,14,21],\n",
        "              [8,-16,24]\n",
        "])\n",
        "R = np.array([\n",
        "              [0,-1,-5-6,10],\n",
        "              [12,3,-15,14,9],\n",
        "              [5,5,-5,3,6],\n",
        "              [2,2,0,2,2]\n",
        "    ])"
      ],
      "metadata": {
        "id": "FHHmrpaaz9QC"
      },
      "execution_count": null,
      "outputs": []
    },
    {
      "cell_type": "code",
      "source": [
        "## Test Areas\n",
        "mat_operations(F, K)"
      ],
      "metadata": {
        "colab": {
          "base_uri": "https://localhost:8080/"
        },
        "id": "AzyBGMoozZ3Q",
        "outputId": "c7288b65-b9e8-4f38-ed2c-07899aacfc05"
      },
      "execution_count": null,
      "outputs": [
        {
          "output_type": "stream",
          "name": "stdout",
          "text": [
            "Sum:\n",
            "[[ 75  12  -4  10]\n",
            " [  3  58   5  24]\n",
            " [ 74  -2  -9  77]\n",
            " [ -5  39 -29  22]]\n",
            "\n",
            "Diferrence:\n",
            "[[-73  -6   8   0]\n",
            " [-29  36 -15  38]\n",
            " [-72   6   5  57]\n",
            " [ 13 -55 -13  38]]\n",
            "\n",
            "Quotient:\n",
            "[[ 0.01351351  0.33333333 -0.33333333  1.        ]\n",
            " [-0.8125      4.27272727 -0.5        -4.42857143]\n",
            " [ 0.01369863 -0.5         0.28571429  6.7       ]\n",
            " [-0.44444444 -0.17021277  2.625      -3.75      ]]\n",
            "\n",
            "Product:\n",
            "[[  74   27  -12   25]\n",
            " [-208  517  -50 -217]\n",
            " [  73   -8   14  670]\n",
            " [ -36 -376  168 -240]]\n",
            "\n",
            "Therefore, matrices are viable for operation.\n"
          ]
        }
      ]
    },
    {
      "cell_type": "code",
      "source": [
        "mat_operations(G,E)"
      ],
      "metadata": {
        "colab": {
          "base_uri": "https://localhost:8080/"
        },
        "id": "yp4snDP7Zx0A",
        "outputId": "feddf725-6f90-4082-de90-efebc8984ff1"
      },
      "execution_count": null,
      "outputs": [
        {
          "output_type": "stream",
          "name": "stdout",
          "text": [
            "Sum:\n",
            "[[ 11  22  33  21]\n",
            " [ 24 -15   0  18]\n",
            " [ 25   0   4  13]\n",
            " [ 10  -8  27  -6]]\n",
            "\n",
            "Diferrence:\n",
            "[[ -9 -18 -27  -1]\n",
            " [  0  11  30 -10]\n",
            " [-21   2  -2  -1]\n",
            " [  0  10   9  -8]]\n",
            "\n",
            "Quotient:\n",
            "[[ 0.1         0.1         0.1         0.90909091]\n",
            " [ 1.          0.15384615 -1.          0.28571429]\n",
            " [ 0.08695652 -1.          0.33333333  0.85714286]\n",
            " [ 1.         -0.11111111  2.         -7.        ]]\n",
            "\n",
            "Product:\n",
            "[[  10   40   90  110]\n",
            " [ 144   26 -225   56]\n",
            " [  46   -1    3   42]\n",
            " [  25   -9  162   -7]]\n",
            "\n",
            "Therefore, matrices are viable for operation.\n"
          ]
        }
      ]
    },
    {
      "cell_type": "code",
      "source": [
        "mat_operations(N,O)"
      ],
      "metadata": {
        "colab": {
          "base_uri": "https://localhost:8080/"
        },
        "outputId": "3f74380a-b954-4706-f8b0-afb8f7543aee",
        "id": "t4Ypx7oM-I5f"
      },
      "execution_count": null,
      "outputs": [
        {
          "output_type": "stream",
          "name": "stdout",
          "text": [
            "Matrices are not viable for operation.\n"
          ]
        }
      ]
    },
    {
      "cell_type": "code",
      "source": [
        "mat_operations(Z,R)"
      ],
      "metadata": {
        "colab": {
          "base_uri": "https://localhost:8080/"
        },
        "outputId": "77569995-8218-4088-b929-e5797ca37916",
        "id": "4XZiBfNw-uDm"
      },
      "execution_count": null,
      "outputs": [
        {
          "output_type": "stream",
          "name": "stdout",
          "text": [
            "Matrices are not viable for operation.\n"
          ]
        }
      ]
    },
    {
      "cell_type": "code",
      "source": [
        "mat_operations(T, B)"
      ],
      "metadata": {
        "colab": {
          "base_uri": "https://localhost:8080/"
        },
        "outputId": "ff0967a7-11d5-409a-d0f3-27e2b945013b",
        "id": "U9_Yo8kTBmy6"
      },
      "execution_count": null,
      "outputs": [
        {
          "output_type": "stream",
          "name": "stdout",
          "text": [
            "Sum:\n",
            "[[  7  14  21]\n",
            " [  8  16 -12]\n",
            " [  9  15  21]\n",
            " [ 13  -6  39]]\n",
            "\n",
            "Diferrence:\n",
            "[[ -1  -2  -3]\n",
            " [ -4  -8  24]\n",
            " [ -5 -13 -21]\n",
            " [ -3  26  -9]]\n",
            "\n",
            "Quotient:\n",
            "[[ 0.75        0.75        0.75      ]\n",
            " [ 0.33333333  0.33333333 -0.33333333]\n",
            " [ 0.28571429  0.07142857  0.        ]\n",
            " [ 0.625      -0.625       0.625     ]]\n",
            "\n",
            "Product:\n",
            "[[  12   48  108]\n",
            " [  12   48 -108]\n",
            " [  14   14    0]\n",
            " [  40 -160  360]]\n",
            "\n",
            "Therefore, matrices are viable for operation.\n"
          ]
        }
      ]
    },
    {
      "cell_type": "markdown",
      "source": [
        "## Conclusion\n",
        "For your conclusion synthesize the concept and application of the laboratory. Briefly discuss what you have learned and achieved in this activity. Also answer the question: \"How can matrix operations solve problems in technology?\"."
      ],
      "metadata": {
        "id": "y_rLiLnKccfU"
      }
    }
  ]
}