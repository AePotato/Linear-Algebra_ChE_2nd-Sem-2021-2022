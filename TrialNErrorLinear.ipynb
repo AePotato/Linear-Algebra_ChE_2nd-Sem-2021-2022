{
  "nbformat": 4,
  "nbformat_minor": 0,
  "metadata": {
    "colab": {
      "name": "Untitled2.ipynb",
      "provenance": [],
      "collapsed_sections": [],
      "include_colab_link": true
    },
    "kernelspec": {
      "name": "python3",
      "display_name": "Python 3"
    },
    "language_info": {
      "name": "python"
    }
  },
  "cells": [
    {
      "cell_type": "markdown",
      "metadata": {
        "id": "view-in-github",
        "colab_type": "text"
      },
      "source": [
        "<a href=\"https://colab.research.google.com/github/AePotato/Linear-Algebra_ChE_2nd-Sem-2021-2022/blob/main/TrialNErrorLinear.ipynb\" target=\"_parent\"><img src=\"https://colab.research.google.com/assets/colab-badge.svg\" alt=\"Open In Colab\"/></a>"
      ]
    },
    {
      "cell_type": "markdown",
      "source": [
        "###Task 1\n",
        "Create a function named mat_desc()  that througouhly describes a matrix, it should:\n",
        "\n",
        "  1. Displays the shape, size, and rank of the matrix.\n",
        "  2. Displays whether the matrix is square or non-square.\n",
        "  3. Displays whether the matrix is an empty matrix.\n",
        "  4. Displays if the matrix is an identity, ones, or zeros matrix\n",
        "\n",
        "Use 5 sample matrices in which their shapes are not lower than (3,3). In your methodology, create a flowchart discuss the functions and methods you have done. Present your results in the results section showing the description of each matrix you have declared."
      ],
      "metadata": {
        "id": "3gqJUV36bhhL"
      }
    },
    {
      "cell_type": "markdown",
      "source": [
        "##Function Area"
      ],
      "metadata": {
        "id": "xPawwi9lGyq3"
      }
    },
    {
      "cell_type": "code",
      "source": [
        "import numpy as np\n",
        "import matplotlib.pyplot as plt\n",
        "import scipy.linalg as la\n",
        "%matplotlib inline"
      ],
      "metadata": {
        "id": "s4sjVQZYtrdA"
      },
      "execution_count": null,
      "outputs": []
    },
    {
      "cell_type": "code",
      "source": [
        "def mat_desc(matrix):\n",
        "    if matrix.size > 0:\n",
        "      is_square = True if matrix.shape[0] == matrix.shape[1] else False \n",
        "      print(f'Matrix:\\n{matrix}\\n\\nDescription:\\n\\nShape:\\t{matrix.shape}\\nRank:\\t{matrix.ndim}\\nSquare: {is_square}\\n')\n",
        "    else:\n",
        "      print('Matrix is empty')"
      ],
      "metadata": {
        "id": "HtGV2TMMVQYZ"
      },
      "execution_count": null,
      "outputs": []
    },
    {
      "cell_type": "markdown",
      "source": [
        "##Matrix Declaration"
      ],
      "metadata": {
        "id": "PDzXmEnDG9cP"
      }
    },
    {
      "cell_type": "code",
      "source": [
        "P = zero_mat_row = np.zeros((3,3))\n",
        "S = zero_mat_sqw = np.zeros((3,4))\n",
        "C = zero_mat_rct = np.zeros((4,3))\n",
        "L = ones_mat_row = np.ones((3,4))\n",
        "D = ones_mat_sqr = np.ones((4,3))\n",
        "U = ones_mat_rct = np.ones((4,4))"
      ],
      "metadata": {
        "id": "kGtFpK6pvH2W"
      },
      "execution_count": null,
      "outputs": []
    },
    {
      "cell_type": "code",
      "source": [
        "M = np.array([\n",
        "              [33,44,49],\n",
        "              [55,44,32],\n",
        "              [23,18,20],\n",
        "              [10,20,30]\n",
        "])"
      ],
      "metadata": {
        "id": "OIyphdovHNG5"
      },
      "execution_count": null,
      "outputs": []
    },
    {
      "cell_type": "code",
      "source": [
        "A = np.array([\n",
        "              [10,20,30,40],\n",
        "              [5,10,15,20],\n",
        "              [60,50,33,78],\n",
        "              [66,44,33,44],\n",
        "              [66,11,22,88]\n",
        "])"
      ],
      "metadata": {
        "id": "CKdlN8dSJNOh"
      },
      "execution_count": null,
      "outputs": []
    },
    {
      "cell_type": "code",
      "source": [
        "R = np.array([])"
      ],
      "metadata": {
        "id": "kQcuYyiWKMcY"
      },
      "execution_count": null,
      "outputs": []
    },
    {
      "cell_type": "markdown",
      "source": [
        "##Test Area"
      ],
      "metadata": {
        "id": "WUqwZvpJG2E2"
      }
    },
    {
      "cell_type": "code",
      "source": [
        "mat_desc(M)"
      ],
      "metadata": {
        "colab": {
          "base_uri": "https://localhost:8080/"
        },
        "id": "D_DFzH1EJAJm",
        "outputId": "9ea651e1-8345-4bbf-e507-e77135125d5a"
      },
      "execution_count": null,
      "outputs": [
        {
          "output_type": "stream",
          "name": "stdout",
          "text": [
            "Matrix:\n",
            "[[33 44 49]\n",
            " [55 44 32]\n",
            " [23 18 20]\n",
            " [10 20 30]]\n",
            "\n",
            "Description:\n",
            "\n",
            "Shape:\t(4, 3)\n",
            "Rank:\t2\n",
            "Is Square: False\n",
            "\n"
          ]
        }
      ]
    },
    {
      "cell_type": "code",
      "source": [
        "mat_desc(A)"
      ],
      "metadata": {
        "colab": {
          "base_uri": "https://localhost:8080/"
        },
        "outputId": "c6797f8f-3054-4a7e-ecd7-a06b25b8c976",
        "id": "3tcxyNe3Jl3z"
      },
      "execution_count": null,
      "outputs": [
        {
          "output_type": "stream",
          "name": "stdout",
          "text": [
            "Matrix:\n",
            "[[10 20 30 40]\n",
            " [ 5 10 15 20]\n",
            " [60 50 33 78]\n",
            " [66 44 33 44]\n",
            " [66 11 22 88]]\n",
            "\n",
            "Description:\n",
            "\n",
            "Shape:\t(5, 4)\n",
            "Rank:\t2\n",
            "Is Square: False\n",
            "\n"
          ]
        }
      ]
    },
    {
      "cell_type": "code",
      "source": [
        "mat_desc(R)"
      ],
      "metadata": {
        "colab": {
          "base_uri": "https://localhost:8080/"
        },
        "id": "mMXFbSmAJk2a",
        "outputId": "da46a4ac-f12a-4329-c374-cf056f5b3e1a"
      },
      "execution_count": null,
      "outputs": [
        {
          "output_type": "stream",
          "name": "stdout",
          "text": [
            "Matrix is empty\n"
          ]
        }
      ]
    },
    {
      "cell_type": "code",
      "source": [
        "mat_desc(P)"
      ],
      "metadata": {
        "colab": {
          "base_uri": "https://localhost:8080/"
        },
        "id": "TalrNFqyKWpG",
        "outputId": "c58b1725-c68b-469c-c0c6-433fc20d4081"
      },
      "execution_count": null,
      "outputs": [
        {
          "output_type": "stream",
          "name": "stdout",
          "text": [
            "Matrix:\n",
            "[[0. 0. 0.]\n",
            " [0. 0. 0.]\n",
            " [0. 0. 0.]]\n",
            "\n",
            "Description:\n",
            "\n",
            "Shape:\t(3, 3)\n",
            "Rank:\t2\n",
            "Is Square: True\n",
            "\n"
          ]
        }
      ]
    },
    {
      "cell_type": "code",
      "source": [
        "mat_desc(U)"
      ],
      "metadata": {
        "colab": {
          "base_uri": "https://localhost:8080/"
        },
        "id": "AspFkEVLKxX5",
        "outputId": "20fcff53-fbec-4e92-c3e3-49fdd96ad69f"
      },
      "execution_count": null,
      "outputs": [
        {
          "output_type": "stream",
          "name": "stdout",
          "text": [
            "Matrix:\n",
            "[[1. 1. 1. 1.]\n",
            " [1. 1. 1. 1.]\n",
            " [1. 1. 1. 1.]\n",
            " [1. 1. 1. 1.]]\n",
            "\n",
            "Description:\n",
            "\n",
            "Shape:\t(4, 4)\n",
            "Rank:\t2\n",
            "Is Square: True\n",
            "\n"
          ]
        }
      ]
    },
    {
      "cell_type": "markdown",
      "source": [
        "#Act 2"
      ],
      "metadata": {
        "id": "N2AvOxNaLBIf"
      }
    },
    {
      "cell_type": "markdown",
      "source": [
        "### Task 2\n",
        "Create a function named mat_operations() that takes in two matrices a input parameters it should:\n",
        "\n",
        "  1. Determines if the matrices are viable for operation and returns your own error message if they are not viable.\n",
        "  2. Returns the sum of the matrices.\n",
        "  3. Returns the difference of the matrices.\n",
        "  4. Returns the element-wise multiplication of the matrices.\n",
        "  5. Returns the element-wise division of the matrices.\n",
        "\n",
        "Use 5 sample matrices in which their shapes are not lower than (3,3) . In your methodology, create a flowchart discuss the functions and methods you have done. Present your results in the results section showing the description of each matrix you have declared."
      ],
      "metadata": {
        "id": "oU2YW81IcGWJ"
      }
    },
    {
      "cell_type": "code",
      "source": [
        "import numpy as np\n",
        "import matplotlib.pyplot as plt\n",
        "import scipy.linalg as la\n",
        "%matplotlib inline"
      ],
      "metadata": {
        "id": "_YPhG6hsL9HH"
      },
      "execution_count": null,
      "outputs": []
    },
    {
      "cell_type": "code",
      "source": [
        "def mat_operation(sum):\n",
        "  print('Sum: ')\n",
        "def mat_operation(dif):\n",
        "  print('Difference: ')\n",
        "def mat_operation(div):\n",
        "  print('Quotient: ')\n",
        "def mat_operation(mul):\n",
        "  print('Product is: ')"
      ],
      "metadata": {
        "id": "IevwZ6wziwEg"
      },
      "execution_count": null,
      "outputs": []
    },
    {
      "cell_type": "code",
      "source": [
        "E = np.array([\n",
        "              [10,20,30,11],\n",
        "              [12,-13,-15,14],\n",
        "              [23,-1,3,7],\n",
        "              [5,-9,9,7]\n",
        "])\n",
        "G = np.array([\n",
        "              [1,2,3,10],\n",
        "              [12,-2,15,4],\n",
        "              [2,1,0,6],\n",
        "              [5,0,18,-7]\n",
        "])\n",
        "N = np.array([\n",
        "              [0,79,40,-1],\n",
        "              [12,-8,-15,14],\n",
        "              [0,1,-3,7]\n",
        "])"
      ],
      "metadata": {
        "id": "8yIC9oUGLQlB"
      },
      "execution_count": null,
      "outputs": []
    },
    {
      "cell_type": "code",
      "source": [
        "while True:\n",
        "        try:\n",
        "            print(r)\n",
        "        except ValueError:\n",
        "            print(\" operands could not be broadcast together with shapes (4,4) (3,4).\")"
      ],
      "metadata": {
        "colab": {
          "base_uri": "https://localhost:8080/",
          "height": 235
        },
        "id": "8fZyvWDLNjFX",
        "outputId": "507f2b34-1524-47be-8686-a1e9845e7d5a"
      },
      "execution_count": null,
      "outputs": [
        {
          "output_type": "error",
          "ename": "NameError",
          "evalue": "ignored",
          "traceback": [
            "\u001b[0;31m---------------------------------------------------------------------------\u001b[0m",
            "\u001b[0;31mNameError\u001b[0m                                 Traceback (most recent call last)",
            "\u001b[0;32m<ipython-input-85-8d899bef3943>\u001b[0m in \u001b[0;36m<module>\u001b[0;34m()\u001b[0m\n\u001b[1;32m      1\u001b[0m \u001b[0;32mwhile\u001b[0m \u001b[0;32mTrue\u001b[0m\u001b[0;34m:\u001b[0m\u001b[0;34m\u001b[0m\u001b[0;34m\u001b[0m\u001b[0m\n\u001b[1;32m      2\u001b[0m         \u001b[0;32mtry\u001b[0m\u001b[0;34m:\u001b[0m\u001b[0;34m\u001b[0m\u001b[0;34m\u001b[0m\u001b[0m\n\u001b[0;32m----> 3\u001b[0;31m             \u001b[0mprint\u001b[0m\u001b[0;34m(\u001b[0m\u001b[0mr\u001b[0m\u001b[0;34m)\u001b[0m\u001b[0;34m\u001b[0m\u001b[0;34m\u001b[0m\u001b[0m\n\u001b[0m\u001b[1;32m      4\u001b[0m         \u001b[0;32mexcept\u001b[0m \u001b[0mValueError\u001b[0m\u001b[0;34m:\u001b[0m\u001b[0;34m\u001b[0m\u001b[0;34m\u001b[0m\u001b[0m\n\u001b[1;32m      5\u001b[0m             \u001b[0mprint\u001b[0m\u001b[0;34m(\u001b[0m\u001b[0;34m\" operands could not be broadcast together with shapes (4,4) (3,4).\"\u001b[0m\u001b[0;34m)\u001b[0m\u001b[0;34m\u001b[0m\u001b[0;34m\u001b[0m\u001b[0m\n",
            "\u001b[0;31mNameError\u001b[0m: name 'r' is not defined"
          ]
        }
      ]
    },
    {
      "cell_type": "code",
      "source": [
        "r = E+N\n",
        "r"
      ],
      "metadata": {
        "colab": {
          "base_uri": "https://localhost:8080/",
          "height": 165
        },
        "id": "kfdxuPLyQ1QX",
        "outputId": "2c0dd7bf-ee7d-4212-a174-edceff2b2c87"
      },
      "execution_count": null,
      "outputs": [
        {
          "output_type": "error",
          "ename": "ValueError",
          "evalue": "ignored",
          "traceback": [
            "\u001b[0;31m---------------------------------------------------------------------------\u001b[0m",
            "\u001b[0;31mValueError\u001b[0m                                Traceback (most recent call last)",
            "\u001b[0;32m<ipython-input-86-696ceb7e5abf>\u001b[0m in \u001b[0;36m<module>\u001b[0;34m()\u001b[0m\n\u001b[0;32m----> 1\u001b[0;31m \u001b[0mr\u001b[0m \u001b[0;34m=\u001b[0m \u001b[0mE\u001b[0m\u001b[0;34m+\u001b[0m\u001b[0mN\u001b[0m\u001b[0;34m\u001b[0m\u001b[0;34m\u001b[0m\u001b[0m\n\u001b[0m",
            "\u001b[0;31mValueError\u001b[0m: operands could not be broadcast together with shapes (4,4) (3,4) "
          ]
        }
      ]
    }
  ]
}