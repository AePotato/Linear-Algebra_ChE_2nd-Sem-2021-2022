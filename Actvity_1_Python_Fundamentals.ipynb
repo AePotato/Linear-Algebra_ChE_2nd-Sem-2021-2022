{
  "nbformat": 4,
  "nbformat_minor": 0,
  "metadata": {
    "colab": {
      "name": "Actvity 1-Python Fundamentals",
      "provenance": [],
      "authorship_tag": "ABX9TyOj4spKeOsImQH0S1Lk1i+n",
      "include_colab_link": true
    },
    "kernelspec": {
      "name": "python3",
      "display_name": "Python 3"
    },
    "language_info": {
      "name": "python"
    }
  },
  "cells": [
    {
      "cell_type": "markdown",
      "metadata": {
        "id": "view-in-github",
        "colab_type": "text"
      },
      "source": [
        "<a href=\"https://colab.research.google.com/github/AePotato/Linear-Algebra_ChE_2nd-Sem-2021-2022/blob/main/Actvity_1_Python_Fundamentals.ipynb\" target=\"_parent\"><img src=\"https://colab.research.google.com/assets/colab-badge.svg\" alt=\"Open In Colab\"/></a>"
      ]
    },
    {
      "cell_type": "markdown",
      "metadata": {
        "id": "wZKJubC_SfGP"
      },
      "source": [
        "# Welcome to Python Fundamentals\n",
        "In this module, we are going to establish or review our skills in Python programming. In this notebook we are going to cover:\n",
        "* Variables and Data Types \n",
        "* Operations\n",
        "* Input and Output Operations\n",
        "* Logic Control\n",
        "* Iterables\n",
        "* Functions"
      ]
    },
    {
      "cell_type": "markdown",
      "metadata": {
        "id": "USsFNGnJAX_w"
      },
      "source": [
        "## Variable and Data Types\n",
        "\n",
        "* In terms of programming, Variables are elements that can be changed while Data type, are referred as the language used and the operations that can be performed on it."
      ]
    },
    {
      "cell_type": "code",
      "execution_count": 1,
      "metadata": {
        "colab": {
          "base_uri": "https://localhost:8080/"
        },
        "id": "RxN3MmllAbox",
        "outputId": "0ad993bf-31b4-4813-8f0d-1b2d74bda9c6"
      },
      "outputs": [
        {
          "output_type": "execute_result",
          "data": {
            "text/plain": [
              "28.2652"
            ]
          },
          "metadata": {},
          "execution_count": 1
        }
      ],
      "source": [
        "M = 28.2652\n",
        "a,r = 0, -82.4595\n",
        "M"
      ]
    },
    {
      "cell_type": "code",
      "execution_count": 3,
      "metadata": {
        "colab": {
          "base_uri": "https://localhost:8080/"
        },
        "id": "rkXEUDs6BTN6",
        "outputId": "7cb160e9-3f77-4d97-9d66-4db5e849a2b2"
      },
      "outputs": [
        {
          "output_type": "execute_result",
          "data": {
            "text/plain": [
              "float"
            ]
          },
          "metadata": {},
          "execution_count": 3
        }
      ],
      "source": [
        "type(M)"
      ]
    },
    {
      "cell_type": "code",
      "execution_count": 4,
      "metadata": {
        "colab": {
          "base_uri": "https://localhost:8080/"
        },
        "id": "rEmA6kkhBjac",
        "outputId": "1a37c486-7a73-4dfd-dbaa-212e28fd668f"
      },
      "outputs": [
        {
          "output_type": "execute_result",
          "data": {
            "text/plain": [
              "float"
            ]
          },
          "metadata": {},
          "execution_count": 4
        }
      ],
      "source": [
        "A = 5983.0835\n",
        "type (A)"
      ]
    },
    {
      "cell_type": "code",
      "execution_count": 5,
      "metadata": {
        "colab": {
          "base_uri": "https://localhost:8080/"
        },
        "id": "7dk4lsaZBvXE",
        "outputId": "fdc3c3cf-f25e-4391-db09-b0b57580ea59"
      },
      "outputs": [
        {
          "output_type": "execute_result",
          "data": {
            "text/plain": [
              "float"
            ]
          },
          "metadata": {},
          "execution_count": 5
        }
      ],
      "source": [
        "M = float(M)\n",
        "type(M)"
      ]
    },
    {
      "cell_type": "code",
      "execution_count": 6,
      "metadata": {
        "colab": {
          "base_uri": "https://localhost:8080/"
        },
        "id": "A7sh2EV6B_wl",
        "outputId": "a2abaab3-4ac7-4da6-c568-58f4fe2b810e"
      },
      "outputs": [
        {
          "output_type": "execute_result",
          "data": {
            "text/plain": [
              "str"
            ]
          },
          "metadata": {},
          "execution_count": 6
        }
      ],
      "source": [
        "r,o,s = \"0\", '8', 'two'\n",
        "type(r)"
      ]
    },
    {
      "cell_type": "code",
      "execution_count": 7,
      "metadata": {
        "colab": {
          "base_uri": "https://localhost:8080/"
        },
        "id": "0Uv5IASoCSyI",
        "outputId": "ad4dd5a0-4b53-4205-dff6-51be7d71b16a"
      },
      "outputs": [
        {
          "output_type": "execute_result",
          "data": {
            "text/plain": [
              "0"
            ]
          },
          "metadata": {},
          "execution_count": 7
        }
      ],
      "source": [
        "r_int = int(r)\n",
        "r_int"
      ]
    },
    {
      "cell_type": "markdown",
      "metadata": {
        "id": "R1D0KUqWCyp2"
      },
      "source": [
        "## Operations\n",
        "\n",
        "* Operations in terms of programming are the specific symbols that are used in manipulating the variables.\n",
        "\n",
        "\n",
        "The different types of operators in Python are: \n",
        "* Arithmetic\n",
        "* Assignment  \n",
        "* Comparison\n",
        "* Logical\n"
      ]
    },
    {
      "cell_type": "markdown",
      "metadata": {
        "id": "J2ppht7fC44w"
      },
      "source": [
        "### Arithmetic\n",
        "\n",
        "* The arithmetic operators are:\n",
        "    - Addition (+)\n",
        "    - Subtraction (-)\n",
        "    - Multiplication (*)\n",
        "    - Division (/)\n",
        "    - Exponent (**) \n",
        "    - Floor Division (//)\n",
        "    - Modulus (%)"
      ]
    },
    {
      "cell_type": "code",
      "execution_count": 8,
      "metadata": {
        "id": "FM9lzsxEC8jI"
      },
      "outputs": [],
      "source": [
        "m,a,r,p = 72.0, -0.12646, 0, -7.26"
      ]
    },
    {
      "cell_type": "code",
      "execution_count": 9,
      "metadata": {
        "colab": {
          "base_uri": "https://localhost:8080/"
        },
        "id": "0LglvQxRDLj9",
        "outputId": "48e7ad96-7365-40a4-e1c2-52deb44456e8"
      },
      "outputs": [
        {
          "output_type": "execute_result",
          "data": {
            "text/plain": [
              "-0.12646"
            ]
          },
          "metadata": {},
          "execution_count": 9
        }
      ],
      "source": [
        "# Addition\n",
        "B = r+a\n",
        "B"
      ]
    },
    {
      "cell_type": "code",
      "execution_count": 10,
      "metadata": {
        "colab": {
          "base_uri": "https://localhost:8080/"
        },
        "id": "n3QRX7b1EkYZ",
        "outputId": "277cc9d8-6120-4a39-e849-b7809c3a66b9"
      },
      "outputs": [
        {
          "output_type": "execute_result",
          "data": {
            "text/plain": [
              "79.26"
            ]
          },
          "metadata": {},
          "execution_count": 10
        }
      ],
      "source": [
        "# Subtraction\n",
        "F = m-p\n",
        "F"
      ]
    },
    {
      "cell_type": "code",
      "execution_count": 11,
      "metadata": {
        "colab": {
          "base_uri": "https://localhost:8080/"
        },
        "id": "v-upw09xhW3U",
        "outputId": "ae5df06d-9e83-4aac-c3df-613786d764c6"
      },
      "outputs": [
        {
          "output_type": "execute_result",
          "data": {
            "text/plain": [
              "0.0"
            ]
          },
          "metadata": {},
          "execution_count": 11
        }
      ],
      "source": [
        "# Multiplication\n",
        "M = r*m\n",
        "M"
      ]
    },
    {
      "cell_type": "code",
      "execution_count": 12,
      "metadata": {
        "colab": {
          "base_uri": "https://localhost:8080/"
        },
        "id": "QBrfeobshgo9",
        "outputId": "ff0277b5-c446-4616-df99-f427d1287661"
      },
      "outputs": [
        {
          "output_type": "execute_result",
          "data": {
            "text/plain": [
              "-569.3499920923613"
            ]
          },
          "metadata": {},
          "execution_count": 12
        }
      ],
      "source": [
        "# Division\n",
        "I = m/a\n",
        "I"
      ]
    },
    {
      "cell_type": "code",
      "execution_count": 13,
      "metadata": {
        "colab": {
          "base_uri": "https://localhost:8080/"
        },
        "id": "Jbr3YkDYEskx",
        "outputId": "a99f7df1-c932-4156-a33e-97729b5a2917"
      },
      "outputs": [
        {
          "output_type": "execute_result",
          "data": {
            "text/plain": [
              "-0.0"
            ]
          },
          "metadata": {},
          "execution_count": 13
        }
      ],
      "source": [
        "# Floor Division\n",
        "J = r//p\n",
        "J\n"
      ]
    },
    {
      "cell_type": "code",
      "execution_count": 14,
      "metadata": {
        "colab": {
          "base_uri": "https://localhost:8080/"
        },
        "id": "9hAct2cDE-t4",
        "outputId": "5dbdf263-da50-41a3-f2f3-ba4935bd21af"
      },
      "outputs": [
        {
          "output_type": "execute_result",
          "data": {
            "text/plain": [
              "2.1909313935887196e-65"
            ]
          },
          "metadata": {},
          "execution_count": 14
        }
      ],
      "source": [
        "# Exponentiation\n",
        "L = a**m\n",
        "L"
      ]
    },
    {
      "cell_type": "code",
      "execution_count": 15,
      "metadata": {
        "colab": {
          "base_uri": "https://localhost:8080/"
        },
        "id": "4jdDn6J9FrpF",
        "outputId": "8e47c5c2-f969-4d41-e85a-426f2de15467"
      },
      "outputs": [
        {
          "output_type": "execute_result",
          "data": {
            "text/plain": [
              "-0.5999999999999979"
            ]
          },
          "metadata": {},
          "execution_count": 15
        }
      ],
      "source": [
        "# Modulo\n",
        "G = m%p\n",
        "G\n"
      ]
    },
    {
      "cell_type": "markdown",
      "metadata": {
        "id": "tO2af7g_JBp0"
      },
      "source": [
        "### Assignment Operations\n",
        "\n",
        "  - The other assignment operators work in exactly the same way. These are:\n",
        "    - *=\n",
        "    - /=\n",
        "    - **=\n",
        "    - //=\n",
        "    - %="
      ]
    },
    {
      "cell_type": "code",
      "execution_count": 16,
      "metadata": {
        "id": "0G03nV9tJoTl"
      },
      "outputs": [],
      "source": [
        "U, J, I, N = 6786.98, 1000000, 87, -8328.72"
      ]
    },
    {
      "cell_type": "code",
      "execution_count": 17,
      "metadata": {
        "colab": {
          "base_uri": "https://localhost:8080/"
        },
        "id": "Y6zjtkKnJwUa",
        "outputId": "1812d2f8-653f-44c9-c7e6-8ab211d00dee"
      },
      "outputs": [
        {
          "output_type": "execute_result",
          "data": {
            "text/plain": [
              "6786.98"
            ]
          },
          "metadata": {},
          "execution_count": 17
        }
      ],
      "source": [
        "M += U\n",
        "M"
      ]
    },
    {
      "cell_type": "code",
      "execution_count": 18,
      "metadata": {
        "colab": {
          "base_uri": "https://localhost:8080/"
        },
        "id": "7pEqPgmeKD9c",
        "outputId": "918d4ec6-6be1-49a6-bffd-616ea26eff0a"
      },
      "outputs": [
        {
          "output_type": "execute_result",
          "data": {
            "text/plain": [
              "14311.803499999998"
            ]
          },
          "metadata": {},
          "execution_count": 18
        }
      ],
      "source": [
        "A -= N\n",
        "A"
      ]
    },
    {
      "cell_type": "code",
      "execution_count": 19,
      "metadata": {
        "colab": {
          "base_uri": "https://localhost:8080/"
        },
        "id": "7oke8hJbKJQy",
        "outputId": "4940bba2-56c6-4ab3-fc44-5af287c187f4"
      },
      "outputs": [
        {
          "output_type": "execute_result",
          "data": {
            "text/plain": [
              "4000000"
            ]
          },
          "metadata": {},
          "execution_count": 19
        }
      ],
      "source": [
        "J *= 4\n",
        "J"
      ]
    },
    {
      "cell_type": "code",
      "execution_count": 20,
      "metadata": {
        "colab": {
          "base_uri": "https://localhost:8080/"
        },
        "id": "0QZYKe8yKUSB",
        "outputId": "0282c358-1c01-4580-c8a8-acc3bba2cc16"
      },
      "outputs": [
        {
          "output_type": "execute_result",
          "data": {
            "text/plain": [
              "37725479487783"
            ]
          },
          "metadata": {},
          "execution_count": 20
        }
      ],
      "source": [
        "I **= 7\n",
        "I"
      ]
    },
    {
      "cell_type": "markdown",
      "metadata": {
        "id": "tLrxWc5OLDny"
      },
      "source": [
        "### Comparators\n",
        "\n",
        "  - To compare the values of variables, you can use comparison operators. They will always return a boolean result of True or False.\n",
        "    - Equal: ==\n",
        "    - Not equal: !=\n",
        "    - Greater than: >\n",
        "    - Less than: <\n",
        "    - Greater than or equal:>=\n",
        "    - Less than or equal: <="
      ]
    },
    {
      "cell_type": "code",
      "execution_count": 21,
      "metadata": {
        "id": "RbvpcEswLX0X"
      },
      "outputs": [],
      "source": [
        "std_1, std_2, std_3 = 7, 7.8, \"3\"\n",
        "true_val = 5.0"
      ]
    },
    {
      "cell_type": "code",
      "execution_count": 22,
      "metadata": {
        "colab": {
          "base_uri": "https://localhost:8080/"
        },
        "id": "42pQCDLRLhYk",
        "outputId": "685194d4-a8ee-4891-c2db-6a21c5918110"
      },
      "outputs": [
        {
          "output_type": "execute_result",
          "data": {
            "text/plain": [
              "False"
            ]
          },
          "metadata": {},
          "execution_count": 22
        }
      ],
      "source": [
        "## Equality\n",
        "std_1 == true_val"
      ]
    },
    {
      "cell_type": "code",
      "execution_count": 23,
      "metadata": {
        "colab": {
          "base_uri": "https://localhost:8080/"
        },
        "id": "2olIPwQOLrB_",
        "outputId": "8356e3c9-ea03-46c4-ef55-02955a82d783"
      },
      "outputs": [
        {
          "output_type": "execute_result",
          "data": {
            "text/plain": [
              "True"
            ]
          },
          "metadata": {},
          "execution_count": 23
        }
      ],
      "source": [
        "## Non-equality\n",
        "std_2 != true_val"
      ]
    },
    {
      "cell_type": "code",
      "execution_count": 24,
      "metadata": {
        "colab": {
          "base_uri": "https://localhost:8080/"
        },
        "id": "koKhHhznLw1o",
        "outputId": "89694a23-143d-4d72-fcab-ce2e892810be"
      },
      "outputs": [
        {
          "output_type": "execute_result",
          "data": {
            "text/plain": [
              "False"
            ]
          },
          "metadata": {},
          "execution_count": 24
        }
      ],
      "source": [
        "## Inequality\n",
        "E1 = std_1 > std_2\n",
        "E2 = std_1 < std_2/2\n",
        "E3 = std_1 >= std_2/2\n",
        "E4 = std_1 <= std_2\n",
        "E1"
      ]
    },
    {
      "cell_type": "markdown",
      "metadata": {
        "id": "a-csdwM_MOAW"
      },
      "source": [
        "## Logical\n",
        "\n",
        "  - Logical is a programming algorithm in which computation is viewed as computational modeling over a database of facts and rules. It is a computer language that is based on formal logic.\n",
        "  - These are also widely used in human language. They are: \n",
        "    - And\n",
        "    - Or\n",
        "    - Not\n"
      ]
    },
    {
      "cell_type": "code",
      "execution_count": 25,
      "metadata": {
        "colab": {
          "base_uri": "https://localhost:8080/"
        },
        "id": "QXPqiU2mMS1H",
        "outputId": "4fa3ecc1-46e9-4fef-f1db-61c56aae93f9"
      },
      "outputs": [
        {
          "output_type": "execute_result",
          "data": {
            "text/plain": [
              "False"
            ]
          },
          "metadata": {},
          "execution_count": 25
        }
      ],
      "source": [
        "std_2 == true_val"
      ]
    },
    {
      "cell_type": "code",
      "execution_count": 26,
      "metadata": {
        "colab": {
          "base_uri": "https://localhost:8080/"
        },
        "id": "yQntSzNjMXwu",
        "outputId": "e7b0e7d4-ced8-453f-fe30-beafcbf0735c"
      },
      "outputs": [
        {
          "output_type": "execute_result",
          "data": {
            "text/plain": [
              "False"
            ]
          },
          "metadata": {},
          "execution_count": 26
        }
      ],
      "source": [
        "std_3 is true_val"
      ]
    },
    {
      "cell_type": "code",
      "execution_count": 27,
      "metadata": {
        "colab": {
          "base_uri": "https://localhost:8080/"
        },
        "id": "7GL6F8iaMab4",
        "outputId": "479f03c0-8bc0-449a-a459-dc68decae058"
      },
      "outputs": [
        {
          "output_type": "execute_result",
          "data": {
            "text/plain": [
              "True"
            ]
          },
          "metadata": {},
          "execution_count": 27
        }
      ],
      "source": [
        "std_1 is not true_val"
      ]
    },
    {
      "cell_type": "code",
      "execution_count": 28,
      "metadata": {
        "colab": {
          "base_uri": "https://localhost:8080/"
        },
        "id": "MHZEBp1-Mdnh",
        "outputId": "822a7e0f-4a5b-49e5-f947-58d23e7ee3a2"
      },
      "outputs": [
        {
          "output_type": "execute_result",
          "data": {
            "text/plain": [
              "False"
            ]
          },
          "metadata": {},
          "execution_count": 28
        }
      ],
      "source": [
        "Y,Z = False, True\n",
        "conjunction = Y and Z\n",
        "conjunction"
      ]
    },
    {
      "cell_type": "code",
      "execution_count": 29,
      "metadata": {
        "colab": {
          "base_uri": "https://localhost:8080/"
        },
        "id": "iB7rwNoGMohT",
        "outputId": "d3c79c4a-4d7b-4f1b-a2fd-f36bc87b431f"
      },
      "outputs": [
        {
          "output_type": "execute_result",
          "data": {
            "text/plain": [
              "False"
            ]
          },
          "metadata": {},
          "execution_count": 29
        }
      ],
      "source": [
        "Y,Z = False, True\n",
        "disjunction = Y and Z\n",
        "disjunction"
      ]
    },
    {
      "cell_type": "code",
      "execution_count": 30,
      "metadata": {
        "colab": {
          "base_uri": "https://localhost:8080/"
        },
        "id": "uBgnQPPDNBzG",
        "outputId": "045c8457-8a5c-4869-e120-2d2207dcadb2"
      },
      "outputs": [
        {
          "output_type": "execute_result",
          "data": {
            "text/plain": [
              "True"
            ]
          },
          "metadata": {},
          "execution_count": 30
        }
      ],
      "source": [
        "Y,Z = False, True\n",
        "negation = not(Y and Z)\n",
        "negation"
      ]
    },
    {
      "cell_type": "code",
      "execution_count": 31,
      "metadata": {
        "colab": {
          "base_uri": "https://localhost:8080/"
        },
        "id": "ui4JtCUMOJVm",
        "outputId": "65a98812-13e8-4fff-9a73-734d11893153"
      },
      "outputs": [
        {
          "output_type": "execute_result",
          "data": {
            "text/plain": [
              "True"
            ]
          },
          "metadata": {},
          "execution_count": 31
        }
      ],
      "source": [
        "Y,Z = False, True\n",
        "conditional = (not Y and Z) or (Y and not Z)\n",
        "conditional"
      ]
    },
    {
      "cell_type": "markdown",
      "metadata": {
        "id": "P0JgsiJ_OohD"
      },
      "source": [
        "### Input/Output\n",
        "\n",
        "* Input and output operations require their own built in functions to process a command.\n",
        "  - print() = Output operation\n",
        "  - input() = Input operation"
      ]
    },
    {
      "cell_type": "code",
      "execution_count": 32,
      "metadata": {
        "colab": {
          "base_uri": "https://localhost:8080/"
        },
        "id": "o74pQCCUOr9A",
        "outputId": "32b89710-d870-4844-8b69-75c233420a93"
      },
      "outputs": [
        {
          "output_type": "stream",
          "name": "stdout",
          "text": [
            "Your time is limited, so don’t waste it living someone else’s life.\n"
          ]
        }
      ],
      "source": [
        "print(\"Your time is limited, so don’t waste it living someone else’s life.\")"
      ]
    },
    {
      "cell_type": "code",
      "execution_count": 33,
      "metadata": {
        "id": "9XxVXlwBPE28"
      },
      "outputs": [],
      "source": [
        "cnt = 2"
      ]
    },
    {
      "cell_type": "code",
      "execution_count": 34,
      "metadata": {
        "colab": {
          "base_uri": "https://localhost:8080/"
        },
        "id": "5OSJeUUDPGak",
        "outputId": "4bbfeffe-337d-48b0-e32e-f5cae8813401"
      },
      "outputs": [
        {
          "output_type": "stream",
          "name": "stdout",
          "text": [
            "Your time is limited, so don’t waste it living someone else’s life. , Current run count is: 2\n"
          ]
        }
      ],
      "source": [
        "string = \"Your time is limited, so don’t waste it living someone else’s life.\"\n",
        "print(string, \", Current run count is:\", cnt)\n",
        "cnt += 1"
      ]
    },
    {
      "cell_type": "code",
      "execution_count": 35,
      "metadata": {
        "colab": {
          "base_uri": "https://localhost:8080/"
        },
        "id": "mEdNkHfKPZpo",
        "outputId": "ccc4e512-1569-44a7-bf25-364f9e8532f6"
      },
      "outputs": [
        {
          "output_type": "stream",
          "name": "stdout",
          "text": [
            "Your time is limited, so don’t waste it living someone else’s life., Current count is: 3\n"
          ]
        }
      ],
      "source": [
        "print(f\"{string}, Current count is: {cnt}\")"
      ]
    },
    {
      "cell_type": "code",
      "execution_count": 36,
      "metadata": {
        "colab": {
          "base_uri": "https://localhost:8080/"
        },
        "id": "TzWiSJI8P1AA",
        "outputId": "d4ba7fb2-4840-4a61-d732-8a6c97f4f21e"
      },
      "outputs": [
        {
          "output_type": "stream",
          "name": "stdout",
          "text": [
            "Hello Rosalin Dulay, your semestral grade is: 1.0\n"
          ]
        }
      ],
      "source": [
        "sem_grade = 1.0\n",
        "name = \"Rosalin Dulay\"\n",
        "print(\"Hello {}, your semestral grade is: {}\".format(name, sem_grade))"
      ]
    },
    {
      "cell_type": "code",
      "execution_count": 37,
      "metadata": {
        "colab": {
          "base_uri": "https://localhost:8080/"
        },
        "id": "nbdkr70wQ4tL",
        "outputId": "06cc1c2c-bd54-4dde-d87e-4f1dc99dd088"
      },
      "outputs": [
        {
          "output_type": "stream",
          "name": "stdout",
          "text": [
            "The weights of your semestral grades are:\n",
            "\t30.00000% for Prelims\n",
            "\t30.00000% for Midterms, and\n",
            "\t40.00000% for Finals.\n"
          ]
        }
      ],
      "source": [
        "w_pg, w_mg, w_fg = 0.3, 0.3, 0.4\n",
        "print(\"The weights of your semestral grades are:\\\n",
        "\\n\\t{:.5%} for Prelims\\\n",
        "\\n\\t{:.5%} for Midterms, and\\\n",
        "\\n\\t{:.5%} for Finals.\".format(w_pg, w_mg, w_fg))\n"
      ]
    },
    {
      "cell_type": "code",
      "execution_count": 38,
      "metadata": {
        "colab": {
          "base_uri": "https://localhost:8080/",
          "height": 53
        },
        "id": "60qKFHjgDJ3e",
        "outputId": "361ec8c2-07da-41d8-b99a-04909a21dd6f"
      },
      "outputs": [
        {
          "name": "stdout",
          "output_type": "stream",
          "text": [
            "Enter your full name: Rosalin\n"
          ]
        },
        {
          "output_type": "execute_result",
          "data": {
            "application/vnd.google.colaboratory.intrinsic+json": {
              "type": "string"
            },
            "text/plain": [
              "'Rosalin'"
            ]
          },
          "metadata": {},
          "execution_count": 38
        }
      ],
      "source": [
        "V = input(\"Enter your full name: \")\n",
        "V"
      ]
    },
    {
      "cell_type": "code",
      "execution_count": 39,
      "metadata": {
        "colab": {
          "base_uri": "https://localhost:8080/"
        },
        "id": "nhZSXn3hBH9A",
        "outputId": "773a3421-2016-4546-cd92-9050d9d4df50"
      },
      "outputs": [
        {
          "output_type": "stream",
          "name": "stdout",
          "text": [
            "Enter your full name: me\n",
            "Enter prelim grade: 80\n",
            "Enter midterm grade: 80\n",
            "Enter final grade: 80\n",
            "Hello me, your semestral grade is: 1.75\n"
          ]
        }
      ],
      "source": [
        "name = input(\"Enter your full name: \")\n",
        "pg = input(\"Enter prelim grade: \")\n",
        "mg = input(\"Enter midterm grade: \")\n",
        "fg = input(\"Enter final grade: \")\n",
        "sem_grade = 1.75\n",
        "print(\"Hello {}, your semestral grade is: {}\".format(name, sem_grade))"
      ]
    },
    {
      "cell_type": "markdown",
      "metadata": {
        "id": "R2cguFprDsT3"
      },
      "source": [
        "##Looping Statements"
      ]
    },
    {
      "cell_type": "markdown",
      "metadata": {
        "id": "gG-VH3orDwai"
      },
      "source": [
        "###While\n",
        "\n",
        "* This concept will execute a code repeatedly as long as the given condition still holds true. "
      ]
    },
    {
      "cell_type": "code",
      "execution_count": 40,
      "metadata": {
        "colab": {
          "base_uri": "https://localhost:8080/"
        },
        "id": "vkZTX6PeDyp1",
        "outputId": "8ffae3d9-e2e1-4eed-b036-99c2af38b1b7"
      },
      "outputs": [
        {
          "output_type": "stream",
          "name": "stdout",
          "text": [
            "20\t|\t40\n",
            "22\t|\t40\n",
            "24\t|\t40\n",
            "26\t|\t40\n",
            "28\t|\t40\n",
            "30\t|\t40\n",
            "32\t|\t40\n",
            "34\t|\t40\n",
            "36\t|\t40\n",
            "38\t|\t40\n",
            "40\t|\t40\n"
          ]
        }
      ],
      "source": [
        "## while loops\n",
        "E, R = 20, 40\n",
        "while (E<=R):\n",
        "      print(f\"{E}\\t|\\t{R}\")\n",
        "      E+=2"
      ]
    },
    {
      "cell_type": "markdown",
      "metadata": {
        "id": "7ze6kW2EFdxH"
      },
      "source": [
        "###For\n",
        "\n",
        "* For loop executes a code within the range of the given variable."
      ]
    },
    {
      "cell_type": "code",
      "execution_count": 41,
      "metadata": {
        "colab": {
          "base_uri": "https://localhost:8080/"
        },
        "id": "OX-Sxcl1Ffcs",
        "outputId": "a120ca56-c32c-40b9-d703-33f3b50340f4"
      },
      "outputs": [
        {
          "output_type": "stream",
          "name": "stdout",
          "text": [
            "0\n",
            "1\n",
            "2\n",
            "3\n",
            "4\n"
          ]
        }
      ],
      "source": [
        "# for(int E=0; E<10; E++){\n",
        "# printf(E)\n",
        "# }\n",
        "\n",
        "E=0\n",
        "for E in range(5):\n",
        "  print(E)"
      ]
    },
    {
      "cell_type": "code",
      "execution_count": 42,
      "metadata": {
        "colab": {
          "base_uri": "https://localhost:8080/"
        },
        "id": "iBM1KcwVHegj",
        "outputId": "660e3120-1173-4e0d-cd6a-5de3c20d748c"
      },
      "outputs": [
        {
          "output_type": "stream",
          "name": "stdout",
          "text": [
            "Now Playing:\n",
            "\n",
            "Rasputin\n",
            "Bohemian Rhapsody\n",
            "Howl's moving castle\n"
          ]
        }
      ],
      "source": [
        "playlist = [\"Rasputin\", \"Bohemian Rhapsody\", \"Howl's moving castle\"]\n",
        "print('Now Playing:\\n')\n",
        "for song in playlist:\n",
        "    print(song)"
      ]
    },
    {
      "cell_type": "markdown",
      "metadata": {
        "id": "jZbKPsSxHx4n"
      },
      "source": [
        "##Flow Control\n",
        "\n",
        "* Flow Control is a programming algorithm in which computation is viewed as computational modeling over a database of facts and rules. It is a computer language that is based on formal logic."
      ]
    },
    {
      "cell_type": "code",
      "execution_count": 43,
      "metadata": {
        "colab": {
          "base_uri": "https://localhost:8080/"
        },
        "id": "fDPMzkudc3tV",
        "outputId": "de5339b9-6e00-44c9-e20a-59858a70cbfa"
      },
      "outputs": [
        {
          "output_type": "stream",
          "name": "stdout",
          "text": [
            "Place num: 6\n",
            "Place 2nd num: 9\n",
            "Sniper no swiping\n"
          ]
        }
      ],
      "source": [
        "N1 = input(\"Place num: \") \n",
        "N2 = input(\"Place 2nd num: \")\n",
        "\n",
        "if(N1 == N2):\n",
        "    print(\"yey\")\n",
        "elif(N1>N2):\n",
        "    print(\"HoeHoe\")\n",
        "else:\n",
        "    print(\"Sniper no swiping\")"
      ]
    },
    {
      "cell_type": "markdown",
      "metadata": {
        "id": "trctwI6GJLh8"
      },
      "source": [
        "## Functions\n",
        "\n",
        "* Functions is a programming block that only executes when it is executed. If a return statement is given, Python functions return a value. After a function has been defined, it may be invoked from anywhere.\n"
      ]
    },
    {
      "cell_type": "code",
      "execution_count": 45,
      "metadata": {
        "id": "SCV36BlYJNA4"
      },
      "outputs": [],
      "source": [
        "# void DeleteUser(int userid){\n",
        "#     create(userid);\n",
        "# }\n",
        "\n",
        "def create_user (userid):\n",
        "    print(\"Successfully created user ID: {}\".format(userid))\n",
        "\n",
        "def create_all_users ():\n",
        "    print(\"Successfully created all users\")"
      ]
    },
    {
      "cell_type": "code",
      "execution_count": 46,
      "metadata": {
        "colab": {
          "base_uri": "https://localhost:8080/"
        },
        "id": "2g9BDE3rKQm3",
        "outputId": "0f9bc91e-9d6b-4c0d-9184-1dd79baa4b6e"
      },
      "outputs": [
        {
          "output_type": "stream",
          "name": "stdout",
          "text": [
            "Successfully created user ID: 202011160\n",
            "Successfully created all users\n"
          ]
        }
      ],
      "source": [
        "userid = 202011160\n",
        "create_user(202011160)\n",
        "create_all_users()"
      ]
    },
    {
      "cell_type": "code",
      "execution_count": 47,
      "metadata": {
        "colab": {
          "base_uri": "https://localhost:8080/"
        },
        "id": "N5-m8TWwKYCh",
        "outputId": "c0151777-2319-476f-9fc4-33d9d33e7e0a"
      },
      "outputs": [
        {
          "output_type": "execute_result",
          "data": {
            "text/plain": [
              "4"
            ]
          },
          "metadata": {},
          "execution_count": 47
        }
      ],
      "source": [
        "def add(Num1, Num2):\n",
        "    print(\"I can add all the numbers.\")\n",
        "    return Num1 + Num2\n",
        "\n",
        "def power_of_base2(exponent):\n",
        "    return 2**exponent\n",
        "\n",
        "Num1 = 20\n",
        "Num2 = 30\n",
        "\n",
        "exponent = 2\n",
        "\n",
        "#add(Num1, Num2)\n",
        "power_of_base2(exponent)"
      ]
    },
    {
      "cell_type": "code",
      "execution_count": 48,
      "metadata": {
        "colab": {
          "base_uri": "https://localhost:8080/"
        },
        "id": "h9LlkfPdNu9c",
        "outputId": "91a7db32-7493-4bbc-8f18-c041d94c4649"
      },
      "outputs": [
        {
          "output_type": "stream",
          "name": "stdout",
          "text": [
            "I can add all the numbers.\n"
          ]
        },
        {
          "output_type": "execute_result",
          "data": {
            "text/plain": [
              "50"
            ]
          },
          "metadata": {},
          "execution_count": 48
        }
      ],
      "source": [
        "add(Num1, Num2)"
      ]
    }
  ]
}