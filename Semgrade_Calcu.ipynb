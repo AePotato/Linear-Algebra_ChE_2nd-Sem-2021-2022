{
  "nbformat": 4,
  "nbformat_minor": 0,
  "metadata": {
    "colab": {
      "name": "Semgrade Calcu.ipynb",
      "provenance": [],
      "collapsed_sections": [],
      "authorship_tag": "ABX9TyOqXoVcYG0YTHGF4KZ2t618",
      "include_colab_link": true
    },
    "kernelspec": {
      "name": "python3",
      "display_name": "Python 3"
    },
    "language_info": {
      "name": "python"
    }
  },
  "cells": [
    {
      "cell_type": "markdown",
      "metadata": {
        "id": "view-in-github",
        "colab_type": "text"
      },
      "source": [
        "<a href=\"https://colab.research.google.com/github/AePotato/Linear-Algebra_ChE_2nd-Sem-2021-2022/blob/main/Semgrade_Calcu.ipynb\" target=\"_parent\"><img src=\"https://colab.research.google.com/assets/colab-badge.svg\" alt=\"Open In Colab\"/></a>"
      ]
    },
    {
      "cell_type": "code",
      "execution_count": 34,
      "metadata": {
        "id": "ijR3Uaf70DA6"
      },
      "outputs": [],
      "source": [
        "S = 100.0"
      ]
    },
    {
      "cell_type": "code",
      "source": [
        "name = input(\"Enter student's name: \")\n",
        "p = float(input(\"Enter Prelim grade: \"))\n",
        "m = float(input(\"Enter Midterm grade: \"))\n",
        "f = float(input(\"Enter Finals grade: \"))\n",
        "s = p + m + f\n",
        "sem_grade = (s//S)\n",
        "print(\"Hello {}, your semstral grade is: {}\".format(name, sem_grade))"
      ],
      "metadata": {
        "id": "54a3eKejAjQA",
        "outputId": "49e38a63-f3d5-47c3-d43d-402919d20055",
        "colab": {
          "base_uri": "https://localhost:8080/"
        }
      },
      "execution_count": 33,
      "outputs": [
        {
          "output_type": "stream",
          "name": "stdout",
          "text": [
            "Enter student's name: me\n",
            "Enter Prelim grade: 60\n",
            "Enter Midterm grade: 75.5\n",
            "Enter Finals grade: 80.3\n",
            "Hello me, your semstral grade is: 2.0\n"
          ]
        }
      ]
    }
  ]
}