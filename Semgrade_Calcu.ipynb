{
  "nbformat": 4,
  "nbformat_minor": 0,
  "metadata": {
    "colab": {
      "name": "Semgrade Calcu.ipynb",
      "provenance": [],
      "collapsed_sections": [],
      "include_colab_link": true
    },
    "kernelspec": {
      "name": "python3",
      "display_name": "Python 3"
    },
    "language_info": {
      "name": "python"
    }
  },
  "cells": [
    {
      "cell_type": "markdown",
      "metadata": {
        "id": "view-in-github",
        "colab_type": "text"
      },
      "source": [
        "<a href=\"https://colab.research.google.com/github/AePotato/Linear-Algebra_ChE_2nd-Sem-2021-2022/blob/main/Semgrade_Calcu.ipynb\" target=\"_parent\"><img src=\"https://colab.research.google.com/assets/colab-badge.svg\" alt=\"Open In Colab\"/></a>"
      ]
    },
    {
      "cell_type": "code",
      "execution_count": 2,
      "metadata": {
        "id": "ijR3Uaf70DA6"
      },
      "outputs": [],
      "source": [
        "S = 3.0"
      ]
    },
    {
      "cell_type": "code",
      "source": [
        "happy = (\"\\U0001F600\")\n",
        "lol = (\"\\U0001F606\")\n",
        "sad = (\"\\U0001F62D\")"
      ],
      "metadata": {
        "id": "3GvEkL9QiV10"
      },
      "execution_count": 18,
      "outputs": []
    },
    {
      "cell_type": "code",
      "source": [
        "name = input(\"Enter student's name: \")\n",
        "course = input(\"Please enter subject name: \")\n",
        "P = float(input(\"Enter Prelim grade: \"))\n",
        "M = float(input(\"Enter Midterm grade: \"))\n",
        "F = float(input(\"Enter Finals grade: \"))\n",
        "p = P + 0.30\n",
        "m = M + 0.30\n",
        "f = F + 0.40\n",
        "s = p + m + f\n",
        "S_G = (s/S)\n",
        "if S_G > 70.00:\n",
        "  print(\"Hello {}, your semstral grade is: {: .2f}{}\".format(name, S_G, happy))\n",
        "elif S_G == 70.00:\n",
        "  print(\"Hello {}, your semstral grade is: {: .2f}{}\".format(name, S_G, lol))\n",
        "elif S_G < 70.00:\n",
        "  print(\"Hello {}, your semstral grade is: {: .2f}{}\".format(name, S_G, sad))"
      ],
      "metadata": {
        "id": "54a3eKejAjQA",
        "colab": {
          "base_uri": "https://localhost:8080/"
        },
        "outputId": "095380b3-cdc5-4d97-d4f4-3cd75a22485a"
      },
      "execution_count": 23,
      "outputs": [
        {
          "output_type": "stream",
          "name": "stdout",
          "text": [
            "Enter student's name: Me\n",
            "Please enter subject name: linear\n",
            "Enter Prelim grade: 60\n",
            "Enter Midterm grade: 60\n",
            "Enter Finals grade: 60\n",
            "Hello Me, your semstral grade is:  60.33😭\n"
          ]
        }
      ]
    }
  ]
}